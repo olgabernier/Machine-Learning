{
  "nbformat": 4,
  "nbformat_minor": 0,
  "metadata": {
    "colab": {
      "name": "ML_Exercice_sante des indiens.ipynb",
      "provenance": [],
      "collapsed_sections": [],
      "toc_visible": true,
      "authorship_tag": "ABX9TyOqWvqtzolGZKos4HpyoIrW",
      "include_colab_link": true
    },
    "kernelspec": {
      "name": "python3",
      "display_name": "Python 3"
    }
  },
  "cells": [
    {
      "cell_type": "markdown",
      "metadata": {
        "id": "view-in-github",
        "colab_type": "text"
      },
      "source": [
        "<a href=\"https://colab.research.google.com/github/olgabernier/Machine-Learning/blob/master/ML_Exercice_sante_des_indiens.ipynb\" target=\"_parent\"><img src=\"https://colab.research.google.com/assets/colab-badge.svg\" alt=\"Open In Colab\"/></a>"
      ]
    },
    {
      "cell_type": "code",
      "metadata": {
        "id": "P4lvQlN_dd36",
        "colab_type": "code",
        "outputId": "31a8adc6-5c80-4aa6-81aa-6542300a28f7",
        "colab": {
          "base_uri": "https://localhost:8080/",
          "height": 80
        }
      },
      "source": [
        "import keras\n",
        "import tensorflow\n",
        "import pandas as pd\n",
        "import numpy as np\n",
        "from  keras import models, layers\n",
        "from  keras import Sequential\n",
        "from  keras import utils\n",
        "from keras.layers import Dense, Input"
      ],
      "execution_count": 0,
      "outputs": [
        {
          "output_type": "stream",
          "text": [
            "Using TensorFlow backend.\n"
          ],
          "name": "stderr"
        },
        {
          "output_type": "display_data",
          "data": {
            "text/html": [
              "<p style=\"color: red;\">\n",
              "The default version of TensorFlow in Colab will soon switch to TensorFlow 2.x.<br>\n",
              "We recommend you <a href=\"https://www.tensorflow.org/guide/migrate\" target=\"_blank\">upgrade</a> now \n",
              "or ensure your notebook will continue to use TensorFlow 1.x via the <code>%tensorflow_version 1.x</code> magic:\n",
              "<a href=\"https://colab.research.google.com/notebooks/tensorflow_version.ipynb\" target=\"_blank\">more info</a>.</p>\n"
            ],
            "text/plain": [
              "<IPython.core.display.HTML object>"
            ]
          },
          "metadata": {
            "tags": []
          }
        }
      ]
    },
    {
      "cell_type": "code",
      "metadata": {
        "id": "AmfacYgheBPl",
        "colab_type": "code",
        "colab": {}
      },
      "source": [
        "df = pd.read_csv('https://raw.githubusercontent.com/jbrownlee/Datasets/master/pima-indians-diabetes.data.csv', header = None)"
      ],
      "execution_count": 0,
      "outputs": []
    },
    {
      "cell_type": "code",
      "metadata": {
        "id": "YnJ0iVAyi6rs",
        "colab_type": "code",
        "colab": {}
      },
      "source": [
        "df.columns = ['Number of times pregnant','Plasma glucose concentration a 2 hours in an oral glucose tolerance test','Diastolic blood pressure (mm Hg)','Triceps skin fold thickness (mm)','2-Hour serum insulin (mu U/ml)', 'Body mass index (weight in kg/(height in m)^2)','Diabetes pedigree function','Age (years)','Class variable (0 or 1)']"
      ],
      "execution_count": 0,
      "outputs": []
    },
    {
      "cell_type": "code",
      "metadata": {
        "id": "9DXXASpieZq0",
        "colab_type": "code",
        "outputId": "107002ec-a8f6-4926-a93d-7a29c45038e3",
        "colab": {
          "base_uri": "https://localhost:8080/",
          "height": 238
        }
      },
      "source": [
        "df.head()"
      ],
      "execution_count": 0,
      "outputs": [
        {
          "output_type": "execute_result",
          "data": {
            "text/html": [
              "<div>\n",
              "<style scoped>\n",
              "    .dataframe tbody tr th:only-of-type {\n",
              "        vertical-align: middle;\n",
              "    }\n",
              "\n",
              "    .dataframe tbody tr th {\n",
              "        vertical-align: top;\n",
              "    }\n",
              "\n",
              "    .dataframe thead th {\n",
              "        text-align: right;\n",
              "    }\n",
              "</style>\n",
              "<table border=\"1\" class=\"dataframe\">\n",
              "  <thead>\n",
              "    <tr style=\"text-align: right;\">\n",
              "      <th></th>\n",
              "      <th>Number of times pregnant</th>\n",
              "      <th>Plasma glucose concentration a 2 hours in an oral glucose tolerance test</th>\n",
              "      <th>Diastolic blood pressure (mm Hg)</th>\n",
              "      <th>Triceps skin fold thickness (mm)</th>\n",
              "      <th>2-Hour serum insulin (mu U/ml)</th>\n",
              "      <th>Body mass index (weight in kg/(height in m)^2)</th>\n",
              "      <th>Diabetes pedigree function</th>\n",
              "      <th>Age (years)</th>\n",
              "      <th>Class variable (0 or 1)</th>\n",
              "    </tr>\n",
              "  </thead>\n",
              "  <tbody>\n",
              "    <tr>\n",
              "      <th>0</th>\n",
              "      <td>6</td>\n",
              "      <td>148</td>\n",
              "      <td>72</td>\n",
              "      <td>35</td>\n",
              "      <td>0</td>\n",
              "      <td>33.6</td>\n",
              "      <td>0.627</td>\n",
              "      <td>50</td>\n",
              "      <td>1</td>\n",
              "    </tr>\n",
              "    <tr>\n",
              "      <th>1</th>\n",
              "      <td>1</td>\n",
              "      <td>85</td>\n",
              "      <td>66</td>\n",
              "      <td>29</td>\n",
              "      <td>0</td>\n",
              "      <td>26.6</td>\n",
              "      <td>0.351</td>\n",
              "      <td>31</td>\n",
              "      <td>0</td>\n",
              "    </tr>\n",
              "    <tr>\n",
              "      <th>2</th>\n",
              "      <td>8</td>\n",
              "      <td>183</td>\n",
              "      <td>64</td>\n",
              "      <td>0</td>\n",
              "      <td>0</td>\n",
              "      <td>23.3</td>\n",
              "      <td>0.672</td>\n",
              "      <td>32</td>\n",
              "      <td>1</td>\n",
              "    </tr>\n",
              "    <tr>\n",
              "      <th>3</th>\n",
              "      <td>1</td>\n",
              "      <td>89</td>\n",
              "      <td>66</td>\n",
              "      <td>23</td>\n",
              "      <td>94</td>\n",
              "      <td>28.1</td>\n",
              "      <td>0.167</td>\n",
              "      <td>21</td>\n",
              "      <td>0</td>\n",
              "    </tr>\n",
              "    <tr>\n",
              "      <th>4</th>\n",
              "      <td>0</td>\n",
              "      <td>137</td>\n",
              "      <td>40</td>\n",
              "      <td>35</td>\n",
              "      <td>168</td>\n",
              "      <td>43.1</td>\n",
              "      <td>2.288</td>\n",
              "      <td>33</td>\n",
              "      <td>1</td>\n",
              "    </tr>\n",
              "  </tbody>\n",
              "</table>\n",
              "</div>"
            ],
            "text/plain": [
              "   Number of times pregnant  ...  Class variable (0 or 1)\n",
              "0                         6  ...                        1\n",
              "1                         1  ...                        0\n",
              "2                         8  ...                        1\n",
              "3                         1  ...                        0\n",
              "4                         0  ...                        1\n",
              "\n",
              "[5 rows x 9 columns]"
            ]
          },
          "metadata": {
            "tags": []
          },
          "execution_count": 6
        }
      ]
    },
    {
      "cell_type": "code",
      "metadata": {
        "id": "PbR7lfNGkvWn",
        "colab_type": "code",
        "outputId": "bf87f193-c7fb-494a-b839-6ae1d823aeba",
        "colab": {
          "base_uri": "https://localhost:8080/",
          "height": 331
        }
      },
      "source": [
        "df.describe()"
      ],
      "execution_count": 0,
      "outputs": [
        {
          "output_type": "execute_result",
          "data": {
            "text/html": [
              "<div>\n",
              "<style scoped>\n",
              "    .dataframe tbody tr th:only-of-type {\n",
              "        vertical-align: middle;\n",
              "    }\n",
              "\n",
              "    .dataframe tbody tr th {\n",
              "        vertical-align: top;\n",
              "    }\n",
              "\n",
              "    .dataframe thead th {\n",
              "        text-align: right;\n",
              "    }\n",
              "</style>\n",
              "<table border=\"1\" class=\"dataframe\">\n",
              "  <thead>\n",
              "    <tr style=\"text-align: right;\">\n",
              "      <th></th>\n",
              "      <th>Number of times pregnant</th>\n",
              "      <th>Plasma glucose concentration a 2 hours in an oral glucose tolerance test</th>\n",
              "      <th>Diastolic blood pressure (mm Hg)</th>\n",
              "      <th>Triceps skin fold thickness (mm)</th>\n",
              "      <th>2-Hour serum insulin (mu U/ml)</th>\n",
              "      <th>Body mass index (weight in kg/(height in m)^2)</th>\n",
              "      <th>Diabetes pedigree function</th>\n",
              "      <th>Age (years)</th>\n",
              "      <th>Class variable (0 or 1)</th>\n",
              "    </tr>\n",
              "  </thead>\n",
              "  <tbody>\n",
              "    <tr>\n",
              "      <th>count</th>\n",
              "      <td>768.000000</td>\n",
              "      <td>768.000000</td>\n",
              "      <td>768.000000</td>\n",
              "      <td>768.000000</td>\n",
              "      <td>768.000000</td>\n",
              "      <td>768.000000</td>\n",
              "      <td>768.000000</td>\n",
              "      <td>768.000000</td>\n",
              "      <td>768.000000</td>\n",
              "    </tr>\n",
              "    <tr>\n",
              "      <th>mean</th>\n",
              "      <td>3.845052</td>\n",
              "      <td>120.894531</td>\n",
              "      <td>69.105469</td>\n",
              "      <td>20.536458</td>\n",
              "      <td>79.799479</td>\n",
              "      <td>31.992578</td>\n",
              "      <td>0.471876</td>\n",
              "      <td>33.240885</td>\n",
              "      <td>0.348958</td>\n",
              "    </tr>\n",
              "    <tr>\n",
              "      <th>std</th>\n",
              "      <td>3.369578</td>\n",
              "      <td>31.972618</td>\n",
              "      <td>19.355807</td>\n",
              "      <td>15.952218</td>\n",
              "      <td>115.244002</td>\n",
              "      <td>7.884160</td>\n",
              "      <td>0.331329</td>\n",
              "      <td>11.760232</td>\n",
              "      <td>0.476951</td>\n",
              "    </tr>\n",
              "    <tr>\n",
              "      <th>min</th>\n",
              "      <td>0.000000</td>\n",
              "      <td>0.000000</td>\n",
              "      <td>0.000000</td>\n",
              "      <td>0.000000</td>\n",
              "      <td>0.000000</td>\n",
              "      <td>0.000000</td>\n",
              "      <td>0.078000</td>\n",
              "      <td>21.000000</td>\n",
              "      <td>0.000000</td>\n",
              "    </tr>\n",
              "    <tr>\n",
              "      <th>25%</th>\n",
              "      <td>1.000000</td>\n",
              "      <td>99.000000</td>\n",
              "      <td>62.000000</td>\n",
              "      <td>0.000000</td>\n",
              "      <td>0.000000</td>\n",
              "      <td>27.300000</td>\n",
              "      <td>0.243750</td>\n",
              "      <td>24.000000</td>\n",
              "      <td>0.000000</td>\n",
              "    </tr>\n",
              "    <tr>\n",
              "      <th>50%</th>\n",
              "      <td>3.000000</td>\n",
              "      <td>117.000000</td>\n",
              "      <td>72.000000</td>\n",
              "      <td>23.000000</td>\n",
              "      <td>30.500000</td>\n",
              "      <td>32.000000</td>\n",
              "      <td>0.372500</td>\n",
              "      <td>29.000000</td>\n",
              "      <td>0.000000</td>\n",
              "    </tr>\n",
              "    <tr>\n",
              "      <th>75%</th>\n",
              "      <td>6.000000</td>\n",
              "      <td>140.250000</td>\n",
              "      <td>80.000000</td>\n",
              "      <td>32.000000</td>\n",
              "      <td>127.250000</td>\n",
              "      <td>36.600000</td>\n",
              "      <td>0.626250</td>\n",
              "      <td>41.000000</td>\n",
              "      <td>1.000000</td>\n",
              "    </tr>\n",
              "    <tr>\n",
              "      <th>max</th>\n",
              "      <td>17.000000</td>\n",
              "      <td>199.000000</td>\n",
              "      <td>122.000000</td>\n",
              "      <td>99.000000</td>\n",
              "      <td>846.000000</td>\n",
              "      <td>67.100000</td>\n",
              "      <td>2.420000</td>\n",
              "      <td>81.000000</td>\n",
              "      <td>1.000000</td>\n",
              "    </tr>\n",
              "  </tbody>\n",
              "</table>\n",
              "</div>"
            ],
            "text/plain": [
              "       Number of times pregnant  ...  Class variable (0 or 1)\n",
              "count                768.000000  ...               768.000000\n",
              "mean                   3.845052  ...                 0.348958\n",
              "std                    3.369578  ...                 0.476951\n",
              "min                    0.000000  ...                 0.000000\n",
              "25%                    1.000000  ...                 0.000000\n",
              "50%                    3.000000  ...                 0.000000\n",
              "75%                    6.000000  ...                 1.000000\n",
              "max                   17.000000  ...                 1.000000\n",
              "\n",
              "[8 rows x 9 columns]"
            ]
          },
          "metadata": {
            "tags": []
          },
          "execution_count": 7
        }
      ]
    },
    {
      "cell_type": "code",
      "metadata": {
        "id": "rIJR70J8jhVQ",
        "colab_type": "code",
        "outputId": "47b565df-fab3-47d5-c72d-15369f69d118",
        "colab": {
          "base_uri": "https://localhost:8080/",
          "height": 34
        }
      },
      "source": [
        "df.shape"
      ],
      "execution_count": 0,
      "outputs": [
        {
          "output_type": "execute_result",
          "data": {
            "text/plain": [
              "(768, 9)"
            ]
          },
          "metadata": {
            "tags": []
          },
          "execution_count": 8
        }
      ]
    },
    {
      "cell_type": "code",
      "metadata": {
        "id": "L6JQcYk5hiCY",
        "colab_type": "code",
        "outputId": "de5e2560-717c-4372-992a-1c569c9ab1cc",
        "colab": {
          "base_uri": "https://localhost:8080/",
          "height": 34
        }
      },
      "source": [
        "X = np.array(df.iloc[: , 0:8], dtype = int)\n",
        "X.shape\n",
        "# sinon: df.to_numpy"
      ],
      "execution_count": 0,
      "outputs": [
        {
          "output_type": "execute_result",
          "data": {
            "text/plain": [
              "(768, 8)"
            ]
          },
          "metadata": {
            "tags": []
          },
          "execution_count": 9
        }
      ]
    },
    {
      "cell_type": "code",
      "metadata": {
        "id": "tTYgJCf3h5Q3",
        "colab_type": "code",
        "outputId": "426cf071-34b5-4ca0-9c45-2b5a7c466c99",
        "colab": {
          "base_uri": "https://localhost:8080/",
          "height": 34
        }
      },
      "source": [
        "y = np.array(df.iloc[:,8], dtype = int)\n",
        "y.shape"
      ],
      "execution_count": 0,
      "outputs": [
        {
          "output_type": "execute_result",
          "data": {
            "text/plain": [
              "(768,)"
            ]
          },
          "metadata": {
            "tags": []
          },
          "execution_count": 10
        }
      ]
    },
    {
      "cell_type": "code",
      "metadata": {
        "id": "E53gJTUeyDIt",
        "colab_type": "code",
        "colab": {}
      },
      "source": [
        "keras.backend.clear_session()"
      ],
      "execution_count": 0,
      "outputs": []
    },
    {
      "cell_type": "code",
      "metadata": {
        "id": "UXY4fndGon0k",
        "colab_type": "code",
        "colab": {}
      },
      "source": [
        "model = Sequential()\n",
        "# Définition de la couche d'entrée (input_shape, 8 variables = 8 colonnes), n de neurones = 64:\n",
        "model.add(Dense(units=20, activation='relu', input_shape=(8,))) # couche d'entrée (inout_shape) + couche cachée (units = n de neurones)\n",
        "model.add(Dense(units=20, activation='sigmoid'))\n",
        "model.add(Dense(units=1, activation='sigmoid')) # couche de sortie: units = nombre de neurones, 1 = le nombre de réponse: OUI ou NON, 1 ou 0):\n"
      ],
      "execution_count": 0,
      "outputs": []
    },
    {
      "cell_type": "code",
      "metadata": {
        "id": "9fcg58nbv2j3",
        "colab_type": "code",
        "outputId": "c49af975-76aa-4f22-b426-e2fca272363c",
        "colab": {
          "base_uri": "https://localhost:8080/",
          "height": 255
        }
      },
      "source": [
        "model.summary()"
      ],
      "execution_count": 0,
      "outputs": [
        {
          "output_type": "stream",
          "text": [
            "Model: \"sequential_1\"\n",
            "_________________________________________________________________\n",
            "Layer (type)                 Output Shape              Param #   \n",
            "=================================================================\n",
            "dense_1 (Dense)              (None, 20)                180       \n",
            "_________________________________________________________________\n",
            "dense_2 (Dense)              (None, 20)                420       \n",
            "_________________________________________________________________\n",
            "dense_3 (Dense)              (None, 1)                 21        \n",
            "=================================================================\n",
            "Total params: 621\n",
            "Trainable params: 621\n",
            "Non-trainable params: 0\n",
            "_________________________________________________________________\n"
          ],
          "name": "stdout"
        }
      ]
    },
    {
      "cell_type": "code",
      "metadata": {
        "id": "JLsqmWmzwDXH",
        "colab_type": "code",
        "outputId": "f748e822-a2ce-4d0a-96c5-de7d2c7fccc8",
        "colab": {
          "base_uri": "https://localhost:8080/",
          "height": 369
        }
      },
      "source": [
        "from keras.utils import plot_model\n",
        "plot_model(model, to_file='model.png')"
      ],
      "execution_count": 0,
      "outputs": [
        {
          "output_type": "execute_result",
          "data": {
            "image/png": "[encoded data removed]",
            "text/plain": [
              "<IPython.core.display.Image object>"
            ]
          },
          "metadata": {
            "tags": []
          },
          "execution_count": 23
        }
      ]
    },
    {
      "cell_type": "code",
      "metadata": {
        "id": "aYlWXcVXyAfM",
        "colab_type": "code",
        "outputId": "e9022096-66d9-4df5-e017-18c4c4579f6f",
        "colab": {
          "base_uri": "https://localhost:8080/",
          "height": 156
        }
      },
      "source": [
        "# Adagrad\n",
        "model.compile(loss='binary_crossentropy',\n",
        "              optimizer='adam',\n",
        "              metrics=['accuracy','mse'])"
      ],
      "execution_count": 0,
      "outputs": [
        {
          "output_type": "stream",
          "text": [
            "WARNING:tensorflow:From /usr/local/lib/python3.6/dist-packages/keras/optimizers.py:793: The name tf.train.Optimizer is deprecated. Please use tf.compat.v1.train.Optimizer instead.\n",
            "\n",
            "WARNING:tensorflow:From /usr/local/lib/python3.6/dist-packages/keras/backend/tensorflow_backend.py:3657: The name tf.log is deprecated. Please use tf.math.log instead.\n",
            "\n",
            "WARNING:tensorflow:From /usr/local/lib/python3.6/dist-packages/tensorflow_core/python/ops/nn_impl.py:183: where (from tensorflow.python.ops.array_ops) is deprecated and will be removed in a future version.\n",
            "Instructions for updating:\n",
            "Use tf.where in 2.0, which has the same broadcast rule as np.where\n"
          ],
          "name": "stdout"
        }
      ]
    },
    {
      "cell_type": "code",
      "metadata": {
        "id": "Lfy2Hoba4rkq",
        "colab_type": "code",
        "outputId": "c7a24fe4-4b14-470f-bf68-e042d1f9fc84",
        "colab": {
          "base_uri": "https://localhost:8080/",
          "height": 1000
        }
      },
      "source": [
        "# https://keras.io/models/sequential/\n",
        "history = model.fit(X, y, epochs=50,validation_split=0.1)"
      ],
      "execution_count": 0,
      "outputs": [
        {
          "output_type": "stream",
          "text": [
            "Train on 691 samples, validate on 77 samples\n",
            "Epoch 1/50\n",
            "691/691 [==============================] - 0s 71us/step - loss: 0.5291 - acc: 0.7323 - mean_squared_error: 0.1767 - val_loss: 0.6325 - val_acc: 0.6104 - val_mean_squared_error: 0.2187\n",
            "Epoch 2/50\n",
            "691/691 [==============================] - 0s 59us/step - loss: 0.5309 - acc: 0.7294 - mean_squared_error: 0.1781 - val_loss: 0.6214 - val_acc: 0.6623 - val_mean_squared_error: 0.2150\n",
            "Epoch 3/50\n",
            "691/691 [==============================] - 0s 58us/step - loss: 0.5233 - acc: 0.7366 - mean_squared_error: 0.1744 - val_loss: 0.6439 - val_acc: 0.6364 - val_mean_squared_error: 0.2231\n",
            "Epoch 4/50\n",
            "691/691 [==============================] - 0s 57us/step - loss: 0.5288 - acc: 0.7279 - mean_squared_error: 0.1768 - val_loss: 0.6126 - val_acc: 0.6623 - val_mean_squared_error: 0.2103\n",
            "Epoch 5/50\n",
            "691/691 [==============================] - 0s 58us/step - loss: 0.5322 - acc: 0.7366 - mean_squared_error: 0.1783 - val_loss: 0.6217 - val_acc: 0.6623 - val_mean_squared_error: 0.2153\n",
            "Epoch 6/50\n",
            "691/691 [==============================] - 0s 57us/step - loss: 0.5273 - acc: 0.7308 - mean_squared_error: 0.1764 - val_loss: 0.6335 - val_acc: 0.6364 - val_mean_squared_error: 0.2191\n",
            "Epoch 7/50\n",
            "691/691 [==============================] - 0s 54us/step - loss: 0.5209 - acc: 0.7366 - mean_squared_error: 0.1734 - val_loss: 0.6215 - val_acc: 0.6753 - val_mean_squared_error: 0.2136\n",
            "Epoch 8/50\n",
            "691/691 [==============================] - 0s 55us/step - loss: 0.5229 - acc: 0.7323 - mean_squared_error: 0.1744 - val_loss: 0.6321 - val_acc: 0.6364 - val_mean_squared_error: 0.2194\n",
            "Epoch 9/50\n",
            "691/691 [==============================] - 0s 53us/step - loss: 0.5236 - acc: 0.7395 - mean_squared_error: 0.1747 - val_loss: 0.6169 - val_acc: 0.6753 - val_mean_squared_error: 0.2124\n",
            "Epoch 10/50\n",
            "691/691 [==============================] - 0s 68us/step - loss: 0.5208 - acc: 0.7395 - mean_squared_error: 0.1733 - val_loss: 0.6170 - val_acc: 0.6753 - val_mean_squared_error: 0.2105\n",
            "Epoch 11/50\n",
            "691/691 [==============================] - 0s 58us/step - loss: 0.5274 - acc: 0.7294 - mean_squared_error: 0.1761 - val_loss: 0.6446 - val_acc: 0.6494 - val_mean_squared_error: 0.2241\n",
            "Epoch 12/50\n",
            "691/691 [==============================] - 0s 53us/step - loss: 0.5240 - acc: 0.7381 - mean_squared_error: 0.1751 - val_loss: 0.6206 - val_acc: 0.6234 - val_mean_squared_error: 0.2137\n",
            "Epoch 13/50\n",
            "691/691 [==============================] - 0s 58us/step - loss: 0.5175 - acc: 0.7410 - mean_squared_error: 0.1721 - val_loss: 0.6288 - val_acc: 0.6623 - val_mean_squared_error: 0.2167\n",
            "Epoch 14/50\n",
            "691/691 [==============================] - 0s 53us/step - loss: 0.5197 - acc: 0.7308 - mean_squared_error: 0.1730 - val_loss: 0.6199 - val_acc: 0.6753 - val_mean_squared_error: 0.2128\n",
            "Epoch 15/50\n",
            "691/691 [==============================] - 0s 51us/step - loss: 0.5183 - acc: 0.7467 - mean_squared_error: 0.1724 - val_loss: 0.6179 - val_acc: 0.6364 - val_mean_squared_error: 0.2129\n",
            "Epoch 16/50\n",
            "691/691 [==============================] - 0s 62us/step - loss: 0.5218 - acc: 0.7352 - mean_squared_error: 0.1742 - val_loss: 0.6160 - val_acc: 0.6753 - val_mean_squared_error: 0.2121\n",
            "Epoch 17/50\n",
            "691/691 [==============================] - 0s 52us/step - loss: 0.5169 - acc: 0.7410 - mean_squared_error: 0.1717 - val_loss: 0.6159 - val_acc: 0.6883 - val_mean_squared_error: 0.2101\n",
            "Epoch 18/50\n",
            "691/691 [==============================] - 0s 57us/step - loss: 0.5158 - acc: 0.7352 - mean_squared_error: 0.1715 - val_loss: 0.6147 - val_acc: 0.6753 - val_mean_squared_error: 0.2105\n",
            "Epoch 19/50\n",
            "691/691 [==============================] - 0s 63us/step - loss: 0.5185 - acc: 0.7381 - mean_squared_error: 0.1728 - val_loss: 0.6255 - val_acc: 0.6494 - val_mean_squared_error: 0.2164\n",
            "Epoch 20/50\n",
            "691/691 [==============================] - 0s 63us/step - loss: 0.5155 - acc: 0.7438 - mean_squared_error: 0.1711 - val_loss: 0.6265 - val_acc: 0.6494 - val_mean_squared_error: 0.2156\n",
            "Epoch 21/50\n",
            "691/691 [==============================] - 0s 58us/step - loss: 0.5122 - acc: 0.7511 - mean_squared_error: 0.1699 - val_loss: 0.6123 - val_acc: 0.6753 - val_mean_squared_error: 0.2094\n",
            "Epoch 22/50\n",
            "691/691 [==============================] - 0s 57us/step - loss: 0.5164 - acc: 0.7308 - mean_squared_error: 0.1722 - val_loss: 0.6204 - val_acc: 0.6494 - val_mean_squared_error: 0.2141\n",
            "Epoch 23/50\n",
            "691/691 [==============================] - 0s 56us/step - loss: 0.5137 - acc: 0.7352 - mean_squared_error: 0.1703 - val_loss: 0.6163 - val_acc: 0.6753 - val_mean_squared_error: 0.2102\n",
            "Epoch 24/50\n",
            "691/691 [==============================] - 0s 60us/step - loss: 0.5108 - acc: 0.7381 - mean_squared_error: 0.1695 - val_loss: 0.6258 - val_acc: 0.6364 - val_mean_squared_error: 0.2168\n",
            "Epoch 25/50\n",
            "691/691 [==============================] - 0s 57us/step - loss: 0.5140 - acc: 0.7308 - mean_squared_error: 0.1706 - val_loss: 0.6220 - val_acc: 0.7013 - val_mean_squared_error: 0.2132\n",
            "Epoch 26/50\n",
            "691/691 [==============================] - 0s 59us/step - loss: 0.5155 - acc: 0.7424 - mean_squared_error: 0.1712 - val_loss: 0.6129 - val_acc: 0.6494 - val_mean_squared_error: 0.2115\n",
            "Epoch 27/50\n",
            "691/691 [==============================] - 0s 57us/step - loss: 0.5241 - acc: 0.7265 - mean_squared_error: 0.1755 - val_loss: 0.6185 - val_acc: 0.6883 - val_mean_squared_error: 0.2134\n",
            "Epoch 28/50\n",
            "691/691 [==============================] - 0s 60us/step - loss: 0.5124 - acc: 0.7381 - mean_squared_error: 0.1700 - val_loss: 0.6366 - val_acc: 0.6364 - val_mean_squared_error: 0.2193\n",
            "Epoch 29/50\n",
            "691/691 [==============================] - 0s 59us/step - loss: 0.5143 - acc: 0.7395 - mean_squared_error: 0.1710 - val_loss: 0.6072 - val_acc: 0.6753 - val_mean_squared_error: 0.2076\n",
            "Epoch 30/50\n",
            "691/691 [==============================] - 0s 55us/step - loss: 0.5069 - acc: 0.7438 - mean_squared_error: 0.1679 - val_loss: 0.6260 - val_acc: 0.6883 - val_mean_squared_error: 0.2151\n",
            "Epoch 31/50\n",
            "691/691 [==============================] - 0s 50us/step - loss: 0.5100 - acc: 0.7381 - mean_squared_error: 0.1692 - val_loss: 0.6131 - val_acc: 0.6883 - val_mean_squared_error: 0.2116\n",
            "Epoch 32/50\n",
            "691/691 [==============================] - 0s 61us/step - loss: 0.5102 - acc: 0.7352 - mean_squared_error: 0.1691 - val_loss: 0.6188 - val_acc: 0.6883 - val_mean_squared_error: 0.2141\n",
            "Epoch 33/50\n",
            "691/691 [==============================] - 0s 52us/step - loss: 0.5083 - acc: 0.7424 - mean_squared_error: 0.1686 - val_loss: 0.6258 - val_acc: 0.6364 - val_mean_squared_error: 0.2171\n",
            "Epoch 34/50\n",
            "691/691 [==============================] - 0s 58us/step - loss: 0.5100 - acc: 0.7337 - mean_squared_error: 0.1692 - val_loss: 0.6181 - val_acc: 0.6623 - val_mean_squared_error: 0.2140\n",
            "Epoch 35/50\n",
            "691/691 [==============================] - 0s 49us/step - loss: 0.5093 - acc: 0.7323 - mean_squared_error: 0.1691 - val_loss: 0.6252 - val_acc: 0.6753 - val_mean_squared_error: 0.2131\n",
            "Epoch 36/50\n",
            "691/691 [==============================] - 0s 54us/step - loss: 0.5049 - acc: 0.7410 - mean_squared_error: 0.1669 - val_loss: 0.6267 - val_acc: 0.6364 - val_mean_squared_error: 0.2181\n",
            "Epoch 37/50\n",
            "691/691 [==============================] - 0s 54us/step - loss: 0.5059 - acc: 0.7453 - mean_squared_error: 0.1679 - val_loss: 0.6247 - val_acc: 0.6883 - val_mean_squared_error: 0.2137\n",
            "Epoch 38/50\n",
            "691/691 [==============================] - 0s 63us/step - loss: 0.5047 - acc: 0.7482 - mean_squared_error: 0.1666 - val_loss: 0.6221 - val_acc: 0.6883 - val_mean_squared_error: 0.2146\n",
            "Epoch 39/50\n",
            "691/691 [==============================] - 0s 60us/step - loss: 0.5068 - acc: 0.7410 - mean_squared_error: 0.1682 - val_loss: 0.6265 - val_acc: 0.6623 - val_mean_squared_error: 0.2151\n",
            "Epoch 40/50\n",
            "691/691 [==============================] - 0s 57us/step - loss: 0.5026 - acc: 0.7496 - mean_squared_error: 0.1662 - val_loss: 0.6210 - val_acc: 0.6753 - val_mean_squared_error: 0.2139\n",
            "Epoch 41/50\n",
            "691/691 [==============================] - 0s 57us/step - loss: 0.5049 - acc: 0.7453 - mean_squared_error: 0.1671 - val_loss: 0.6202 - val_acc: 0.6883 - val_mean_squared_error: 0.2130\n",
            "Epoch 42/50\n",
            "691/691 [==============================] - 0s 58us/step - loss: 0.5084 - acc: 0.7366 - mean_squared_error: 0.1688 - val_loss: 0.6250 - val_acc: 0.6234 - val_mean_squared_error: 0.2177\n",
            "Epoch 43/50\n",
            "691/691 [==============================] - 0s 62us/step - loss: 0.5035 - acc: 0.7511 - mean_squared_error: 0.1666 - val_loss: 0.6233 - val_acc: 0.6494 - val_mean_squared_error: 0.2146\n",
            "Epoch 44/50\n",
            "691/691 [==============================] - 0s 63us/step - loss: 0.5009 - acc: 0.7438 - mean_squared_error: 0.1656 - val_loss: 0.6253 - val_acc: 0.6494 - val_mean_squared_error: 0.2169\n",
            "Epoch 45/50\n",
            "691/691 [==============================] - 0s 57us/step - loss: 0.5023 - acc: 0.7496 - mean_squared_error: 0.1661 - val_loss: 0.6217 - val_acc: 0.6753 - val_mean_squared_error: 0.2127\n",
            "Epoch 46/50\n",
            "691/691 [==============================] - 0s 65us/step - loss: 0.5060 - acc: 0.7395 - mean_squared_error: 0.1676 - val_loss: 0.6220 - val_acc: 0.6623 - val_mean_squared_error: 0.2154\n",
            "Epoch 47/50\n",
            "691/691 [==============================] - 0s 57us/step - loss: 0.5018 - acc: 0.7511 - mean_squared_error: 0.1658 - val_loss: 0.6194 - val_acc: 0.7143 - val_mean_squared_error: 0.2122\n",
            "Epoch 48/50\n",
            "691/691 [==============================] - 0s 71us/step - loss: 0.5016 - acc: 0.7467 - mean_squared_error: 0.1657 - val_loss: 0.6212 - val_acc: 0.7013 - val_mean_squared_error: 0.2141\n",
            "Epoch 49/50\n",
            "691/691 [==============================] - 0s 59us/step - loss: 0.5020 - acc: 0.7525 - mean_squared_error: 0.1659 - val_loss: 0.6174 - val_acc: 0.7013 - val_mean_squared_error: 0.2128\n",
            "Epoch 50/50\n",
            "691/691 [==============================] - 0s 58us/step - loss: 0.5057 - acc: 0.7265 - mean_squared_error: 0.1681 - val_loss: 0.6060 - val_acc: 0.7013 - val_mean_squared_error: 0.2086\n"
          ],
          "name": "stdout"
        }
      ]
    },
    {
      "cell_type": "code",
      "metadata": {
        "id": "jmSAzJGHuEF3",
        "colab_type": "code",
        "outputId": "660975c8-66d0-46e9-e6f6-d0317c0869f6",
        "colab": {
          "base_uri": "https://localhost:8080/",
          "height": 867
        }
      },
      "source": [
        "history.history['acc']\n"
      ],
      "execution_count": 0,
      "outputs": [
        {
          "output_type": "execute_result",
          "data": {
            "text/plain": [
              "[0.6570188126239693,\n",
              " 0.6570188136590718,\n",
              " 0.6570188136590718,\n",
              " 0.657018812882745,\n",
              " 0.6570188140903644,\n",
              " 0.657018812882745,\n",
              " 0.657018813055262,\n",
              " 0.6570188138315888,\n",
              " 0.657018813055262,\n",
              " 0.6570188136159425,\n",
              " 0.6570188126239693,\n",
              " 0.6570188126239693,\n",
              " 0.6584659906268637,\n",
              " 0.6570188126239693,\n",
              " 0.6599131694923434,\n",
              " 0.6700434150813113,\n",
              " 0.6729377716909096,\n",
              " 0.6801736611015717,\n",
              " 0.672937771259617,\n",
              " 0.6801736611015717,\n",
              " 0.6917510852972436,\n",
              " 0.6903039081569345,\n",
              " 0.6874095521511459,\n",
              " 0.6960926191334097,\n",
              " 0.6931982637314307,\n",
              " 0.6931982641627233,\n",
              " 0.6859623726818564,\n",
              " 0.6975397967050113,\n",
              " 0.6874095518923703,\n",
              " 0.7047756867194831,\n",
              " 0.7134587562032443,\n",
              " 0.719247467611012,\n",
              " 0.7192474682148217,\n",
              " 0.7047756879271025,\n",
              " 0.7149059342061387,\n",
              " 0.7105643991623533,\n",
              " 0.717800289349342,\n",
              " 0.7206946447513211,\n",
              " 0.7105643997661629,\n",
              " 0.7235890011884024,\n",
              " 0.7192474671797193,\n",
              " 0.716353110742638,\n",
              " 0.736613602783159,\n",
              " 0.7279305359734123,\n",
              " 0.7192474667484267,\n",
              " 0.7337192482437652,\n",
              " 0.7264833579705179,\n",
              " 0.7322720702408709,\n",
              " 0.7322720692057686,\n",
              " 0.7337192467773702]"
            ]
          },
          "metadata": {
            "tags": []
          },
          "execution_count": 27
        }
      ]
    },
    {
      "cell_type": "code",
      "metadata": {
        "id": "9GX310yztOcu",
        "colab_type": "code",
        "outputId": "86b32445-2858-4936-d90f-e67f451b7ed3",
        "colab": {
          "base_uri": "https://localhost:8080/",
          "height": 51
        }
      },
      "source": [
        "loss,accuracy, mse = model.evaluate(X, y)\n",
        "loss,accuracy, mse"
      ],
      "execution_count": 0,
      "outputs": [
        {
          "output_type": "stream",
          "text": [
            "768/768 [==============================] - 0s 35us/step\n"
          ],
          "name": "stdout"
        },
        {
          "output_type": "execute_result",
          "data": {
            "text/plain": [
              "(0.5145116100708643, 0.7395833333333334, 0.1711361175402999)"
            ]
          },
          "metadata": {
            "tags": []
          },
          "execution_count": 34
        }
      ]
    },
    {
      "cell_type": "markdown",
      "metadata": {
        "id": "WRULfq71_P8Z",
        "colab_type": "text"
      },
      "source": [
        ""
      ]
    },
    {
      "cell_type": "code",
      "metadata": {
        "id": "U8VjX8J35djI",
        "colab_type": "code",
        "colab": {}
      },
      "source": [
        "# A History object. \n",
        "# Its History.history attribute is a record of training loss values and metrics values at successive epochs, \n",
        "# as well as validation loss values and validation metrics values (if applicable)."
      ],
      "execution_count": 0,
      "outputs": []
    },
    {
      "cell_type": "code",
      "metadata": {
        "id": "PeRLrZutCtM9",
        "colab_type": "code",
        "outputId": "c3700a8d-b76d-4bab-9bc2-d408425a7c73",
        "colab": {
          "base_uri": "https://localhost:8080/",
          "height": 34
        }
      },
      "source": [
        "'''\n",
        "import json\n",
        "\n",
        "with open(\"model.json\", \"w\") as json_file:\n",
        "    json_file.write(json_model)\n",
        "\n",
        "# serialize weights to HDF5\n",
        "model.save_weights(\"model.h5\")\n",
        "print(\"Saved model to disk\")\n",
        "'''\n",
        "\n"
      ],
      "execution_count": 0,
      "outputs": [
        {
          "output_type": "execute_result",
          "data": {
            "text/plain": [
              "'\\n# serialize weights to HDF5\\nmodel.save_weights(\"model.h5\")\\nprint(\"Saved model to disk\")\\n'"
            ]
          },
          "metadata": {
            "tags": []
          },
          "execution_count": 312
        }
      ]
    },
    {
      "cell_type": "code",
      "metadata": {
        "id": "ALC4DZAvBoR0",
        "colab_type": "code",
        "colab": {}
      },
      "source": [
        "import matplotlib.pyplot as plt"
      ],
      "execution_count": 0,
      "outputs": []
    },
    {
      "cell_type": "code",
      "metadata": {
        "id": "7vvr6Bcu_022",
        "colab_type": "code",
        "outputId": "b95c6528-7265-4f80-9484-98c9490885ed",
        "colab": {
          "base_uri": "https://localhost:8080/",
          "height": 338
        }
      },
      "source": [
        "fig, (ax1,ax2) = plt.subplots(1,2,figsize=(10,5), sharex = True)\n",
        "ax1.plot = plt.plot(list(range(len(history.history['loss']))), history.history['loss'])\n",
        "ax2.plot = plt.plot(list(range(len(history.history['acc']))), history.history['acc'])\n",
        "ax1.set(xlabel='Epochs', ylabel='loss')\n",
        "ax2.set(xlabel='Epochs', ylabel='Accuracy')\n",
        "plt.show()"
      ],
      "execution_count": 0,
      "outputs": [
        {
          "output_type": "display_data",
          "data": {
            "image/png": "[encoded data removed]",
            "text/plain": [
              "<Figure size 720x360 with 2 Axes>"
            ]
          },
          "metadata": {
            "tags": []
          }
        }
      ]
    },
    {
      "cell_type": "code",
      "metadata": {
        "id": "4Ts69oiUFxip",
        "colab_type": "code",
        "outputId": "ba3984db-b49d-44f5-c96c-f3b51a9f0144",
        "colab": {
          "base_uri": "https://localhost:8080/",
          "height": 541
        }
      },
      "source": [
        "plt.plot(list(range(len(history.history['loss']))), history.history['loss'])\n",
        "plt.ylabel('epochs')\n",
        "plt.xlabel('loss')\n",
        "plt.show()\n",
        "plt.plot(list(range(len(history.history['acc']))), history.history['acc'])\n",
        "plt.ylabel('epochs')\n",
        "plt.xlabel('Accuracy')\n",
        "plt.show()\n"
      ],
      "execution_count": 0,
      "outputs": [
        {
          "output_type": "display_data",
          "data": {
            "image/png": "[encoded data removed]",
            "text/plain": [
              "<Figure size 432x288 with 1 Axes>"
            ]
          },
          "metadata": {
            "tags": []
          }
        },
        {
          "output_type": "display_data",
          "data": {
            "image/png": "[encoded data removed]",
            "text/plain": [
              "<Figure size 432x288 with 1 Axes>"
            ]
          },
          "metadata": {
            "tags": []
          }
        }
      ]
    },
    {
      "cell_type": "code",
      "metadata": {
        "id": "GjIcGjhy_Xjc",
        "colab_type": "code",
        "colab": {}
      },
      "source": [
        ""
      ],
      "execution_count": 0,
      "outputs": []
    }
  ]
}