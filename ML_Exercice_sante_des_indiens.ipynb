{
  "nbformat": 4,
  "nbformat_minor": 0,
  "metadata": {
    "colab": {
      "name": "ML_Exercice_sante des indiens.ipynb",
      "provenance": [],
      "collapsed_sections": [],
      "toc_visible": true,
      "authorship_tag": "ABX9TyNxVcKe7YQlLDNSMYOgmwvy",
      "include_colab_link": true
    },
    "kernelspec": {
      "name": "python3",
      "display_name": "Python 3"
    }
  },
  "cells": [
    {
      "cell_type": "markdown",
      "metadata": {
        "id": "view-in-github",
        "colab_type": "text"
      },
      "source": [
        "<a href=\"https://colab.research.google.com/github/olgabernier/Machine-Learning/blob/master/ML_Exercice_sante_des_indiens.ipynb\" target=\"_parent\"><img src=\"https://colab.research.google.com/assets/colab-badge.svg\" alt=\"Open In Colab\"/></a>"
      ]
    },
    {
      "cell_type": "code",
      "metadata": {
        "id": "P4lvQlN_dd36",
        "colab_type": "code",
        "colab": {}
      },
      "source": [
        "import keras\n",
        "import tensorflow\n",
        "import pandas as pd\n",
        "import numpy as np"
      ],
      "execution_count": 0,
      "outputs": []
    },
    {
      "cell_type": "code",
      "metadata": {
        "id": "AmfacYgheBPl",
        "colab_type": "code",
        "colab": {}
      },
      "source": [
        "df = pd.read_csv('https://raw.githubusercontent.com/jbrownlee/Datasets/master/pima-indians-diabetes.data.csv', header = None)"
      ],
      "execution_count": 0,
      "outputs": []
    },
    {
      "cell_type": "code",
      "metadata": {
        "id": "YnJ0iVAyi6rs",
        "colab_type": "code",
        "colab": {}
      },
      "source": [
        "df.columns = ['Number of times pregnant','Plasma glucose concentration a 2 hours in an oral glucose tolerance test','Diastolic blood pressure (mm Hg)','Triceps skin fold thickness (mm)','2-Hour serum insulin (mu U/ml)', 'Body mass index (weight in kg/(height in m)^2)','Diabetes pedigree function','Age (years)','Class variable (0 or 1)']"
      ],
      "execution_count": 0,
      "outputs": []
    },
    {
      "cell_type": "code",
      "metadata": {
        "id": "9DXXASpieZq0",
        "colab_type": "code",
        "outputId": "c91b3fd4-214c-40ee-ec6e-1e41648bdaf8",
        "colab": {
          "base_uri": "https://localhost:8080/",
          "height": 238
        }
      },
      "source": [
        "df.head()"
      ],
      "execution_count": 0,
      "outputs": [
        {
          "output_type": "execute_result",
          "data": {
            "text/html": [
              "<div>\n",
              "<style scoped>\n",
              "    .dataframe tbody tr th:only-of-type {\n",
              "        vertical-align: middle;\n",
              "    }\n",
              "\n",
              "    .dataframe tbody tr th {\n",
              "        vertical-align: top;\n",
              "    }\n",
              "\n",
              "    .dataframe thead th {\n",
              "        text-align: right;\n",
              "    }\n",
              "</style>\n",
              "<table border=\"1\" class=\"dataframe\">\n",
              "  <thead>\n",
              "    <tr style=\"text-align: right;\">\n",
              "      <th></th>\n",
              "      <th>Number of times pregnant</th>\n",
              "      <th>Plasma glucose concentration a 2 hours in an oral glucose tolerance test</th>\n",
              "      <th>Diastolic blood pressure (mm Hg)</th>\n",
              "      <th>Triceps skin fold thickness (mm)</th>\n",
              "      <th>2-Hour serum insulin (mu U/ml)</th>\n",
              "      <th>Body mass index (weight in kg/(height in m)^2)</th>\n",
              "      <th>Diabetes pedigree function</th>\n",
              "      <th>Age (years)</th>\n",
              "      <th>Class variable (0 or 1)</th>\n",
              "    </tr>\n",
              "  </thead>\n",
              "  <tbody>\n",
              "    <tr>\n",
              "      <th>0</th>\n",
              "      <td>6</td>\n",
              "      <td>148</td>\n",
              "      <td>72</td>\n",
              "      <td>35</td>\n",
              "      <td>0</td>\n",
              "      <td>33.6</td>\n",
              "      <td>0.627</td>\n",
              "      <td>50</td>\n",
              "      <td>1</td>\n",
              "    </tr>\n",
              "    <tr>\n",
              "      <th>1</th>\n",
              "      <td>1</td>\n",
              "      <td>85</td>\n",
              "      <td>66</td>\n",
              "      <td>29</td>\n",
              "      <td>0</td>\n",
              "      <td>26.6</td>\n",
              "      <td>0.351</td>\n",
              "      <td>31</td>\n",
              "      <td>0</td>\n",
              "    </tr>\n",
              "    <tr>\n",
              "      <th>2</th>\n",
              "      <td>8</td>\n",
              "      <td>183</td>\n",
              "      <td>64</td>\n",
              "      <td>0</td>\n",
              "      <td>0</td>\n",
              "      <td>23.3</td>\n",
              "      <td>0.672</td>\n",
              "      <td>32</td>\n",
              "      <td>1</td>\n",
              "    </tr>\n",
              "    <tr>\n",
              "      <th>3</th>\n",
              "      <td>1</td>\n",
              "      <td>89</td>\n",
              "      <td>66</td>\n",
              "      <td>23</td>\n",
              "      <td>94</td>\n",
              "      <td>28.1</td>\n",
              "      <td>0.167</td>\n",
              "      <td>21</td>\n",
              "      <td>0</td>\n",
              "    </tr>\n",
              "    <tr>\n",
              "      <th>4</th>\n",
              "      <td>0</td>\n",
              "      <td>137</td>\n",
              "      <td>40</td>\n",
              "      <td>35</td>\n",
              "      <td>168</td>\n",
              "      <td>43.1</td>\n",
              "      <td>2.288</td>\n",
              "      <td>33</td>\n",
              "      <td>1</td>\n",
              "    </tr>\n",
              "  </tbody>\n",
              "</table>\n",
              "</div>"
            ],
            "text/plain": [
              "   Number of times pregnant  ...  Class variable (0 or 1)\n",
              "0                         6  ...                        1\n",
              "1                         1  ...                        0\n",
              "2                         8  ...                        1\n",
              "3                         1  ...                        0\n",
              "4                         0  ...                        1\n",
              "\n",
              "[5 rows x 9 columns]"
            ]
          },
          "metadata": {
            "tags": []
          },
          "execution_count": 280
        }
      ]
    },
    {
      "cell_type": "code",
      "metadata": {
        "id": "PbR7lfNGkvWn",
        "colab_type": "code",
        "outputId": "55c85644-1dee-4630-ab7c-7253f845749b",
        "colab": {
          "base_uri": "https://localhost:8080/",
          "height": 331
        }
      },
      "source": [
        "df.describe()"
      ],
      "execution_count": 0,
      "outputs": [
        {
          "output_type": "execute_result",
          "data": {
            "text/html": [
              "<div>\n",
              "<style scoped>\n",
              "    .dataframe tbody tr th:only-of-type {\n",
              "        vertical-align: middle;\n",
              "    }\n",
              "\n",
              "    .dataframe tbody tr th {\n",
              "        vertical-align: top;\n",
              "    }\n",
              "\n",
              "    .dataframe thead th {\n",
              "        text-align: right;\n",
              "    }\n",
              "</style>\n",
              "<table border=\"1\" class=\"dataframe\">\n",
              "  <thead>\n",
              "    <tr style=\"text-align: right;\">\n",
              "      <th></th>\n",
              "      <th>Number of times pregnant</th>\n",
              "      <th>Plasma glucose concentration a 2 hours in an oral glucose tolerance test</th>\n",
              "      <th>Diastolic blood pressure (mm Hg)</th>\n",
              "      <th>Triceps skin fold thickness (mm)</th>\n",
              "      <th>2-Hour serum insulin (mu U/ml)</th>\n",
              "      <th>Body mass index (weight in kg/(height in m)^2)</th>\n",
              "      <th>Diabetes pedigree function</th>\n",
              "      <th>Age (years)</th>\n",
              "      <th>Class variable (0 or 1)</th>\n",
              "    </tr>\n",
              "  </thead>\n",
              "  <tbody>\n",
              "    <tr>\n",
              "      <th>count</th>\n",
              "      <td>768.000000</td>\n",
              "      <td>768.000000</td>\n",
              "      <td>768.000000</td>\n",
              "      <td>768.000000</td>\n",
              "      <td>768.000000</td>\n",
              "      <td>768.000000</td>\n",
              "      <td>768.000000</td>\n",
              "      <td>768.000000</td>\n",
              "      <td>768.000000</td>\n",
              "    </tr>\n",
              "    <tr>\n",
              "      <th>mean</th>\n",
              "      <td>3.845052</td>\n",
              "      <td>120.894531</td>\n",
              "      <td>69.105469</td>\n",
              "      <td>20.536458</td>\n",
              "      <td>79.799479</td>\n",
              "      <td>31.992578</td>\n",
              "      <td>0.471876</td>\n",
              "      <td>33.240885</td>\n",
              "      <td>0.348958</td>\n",
              "    </tr>\n",
              "    <tr>\n",
              "      <th>std</th>\n",
              "      <td>3.369578</td>\n",
              "      <td>31.972618</td>\n",
              "      <td>19.355807</td>\n",
              "      <td>15.952218</td>\n",
              "      <td>115.244002</td>\n",
              "      <td>7.884160</td>\n",
              "      <td>0.331329</td>\n",
              "      <td>11.760232</td>\n",
              "      <td>0.476951</td>\n",
              "    </tr>\n",
              "    <tr>\n",
              "      <th>min</th>\n",
              "      <td>0.000000</td>\n",
              "      <td>0.000000</td>\n",
              "      <td>0.000000</td>\n",
              "      <td>0.000000</td>\n",
              "      <td>0.000000</td>\n",
              "      <td>0.000000</td>\n",
              "      <td>0.078000</td>\n",
              "      <td>21.000000</td>\n",
              "      <td>0.000000</td>\n",
              "    </tr>\n",
              "    <tr>\n",
              "      <th>25%</th>\n",
              "      <td>1.000000</td>\n",
              "      <td>99.000000</td>\n",
              "      <td>62.000000</td>\n",
              "      <td>0.000000</td>\n",
              "      <td>0.000000</td>\n",
              "      <td>27.300000</td>\n",
              "      <td>0.243750</td>\n",
              "      <td>24.000000</td>\n",
              "      <td>0.000000</td>\n",
              "    </tr>\n",
              "    <tr>\n",
              "      <th>50%</th>\n",
              "      <td>3.000000</td>\n",
              "      <td>117.000000</td>\n",
              "      <td>72.000000</td>\n",
              "      <td>23.000000</td>\n",
              "      <td>30.500000</td>\n",
              "      <td>32.000000</td>\n",
              "      <td>0.372500</td>\n",
              "      <td>29.000000</td>\n",
              "      <td>0.000000</td>\n",
              "    </tr>\n",
              "    <tr>\n",
              "      <th>75%</th>\n",
              "      <td>6.000000</td>\n",
              "      <td>140.250000</td>\n",
              "      <td>80.000000</td>\n",
              "      <td>32.000000</td>\n",
              "      <td>127.250000</td>\n",
              "      <td>36.600000</td>\n",
              "      <td>0.626250</td>\n",
              "      <td>41.000000</td>\n",
              "      <td>1.000000</td>\n",
              "    </tr>\n",
              "    <tr>\n",
              "      <th>max</th>\n",
              "      <td>17.000000</td>\n",
              "      <td>199.000000</td>\n",
              "      <td>122.000000</td>\n",
              "      <td>99.000000</td>\n",
              "      <td>846.000000</td>\n",
              "      <td>67.100000</td>\n",
              "      <td>2.420000</td>\n",
              "      <td>81.000000</td>\n",
              "      <td>1.000000</td>\n",
              "    </tr>\n",
              "  </tbody>\n",
              "</table>\n",
              "</div>"
            ],
            "text/plain": [
              "       Number of times pregnant  ...  Class variable (0 or 1)\n",
              "count                768.000000  ...               768.000000\n",
              "mean                   3.845052  ...                 0.348958\n",
              "std                    3.369578  ...                 0.476951\n",
              "min                    0.000000  ...                 0.000000\n",
              "25%                    1.000000  ...                 0.000000\n",
              "50%                    3.000000  ...                 0.000000\n",
              "75%                    6.000000  ...                 1.000000\n",
              "max                   17.000000  ...                 1.000000\n",
              "\n",
              "[8 rows x 9 columns]"
            ]
          },
          "metadata": {
            "tags": []
          },
          "execution_count": 281
        }
      ]
    },
    {
      "cell_type": "code",
      "metadata": {
        "id": "rIJR70J8jhVQ",
        "colab_type": "code",
        "outputId": "3cc7ad32-dea3-4eab-9a5a-93a708c5f909",
        "colab": {
          "base_uri": "https://localhost:8080/",
          "height": 34
        }
      },
      "source": [
        "df.shape"
      ],
      "execution_count": 0,
      "outputs": [
        {
          "output_type": "execute_result",
          "data": {
            "text/plain": [
              "(768, 9)"
            ]
          },
          "metadata": {
            "tags": []
          },
          "execution_count": 282
        }
      ]
    },
    {
      "cell_type": "code",
      "metadata": {
        "id": "L6JQcYk5hiCY",
        "colab_type": "code",
        "outputId": "3978da8a-b0a4-42b3-8d5d-2e7ae321aaa8",
        "colab": {
          "base_uri": "https://localhost:8080/",
          "height": 34
        }
      },
      "source": [
        "var_x = np.array(df.iloc[: , 0:8], dtype = int)\n",
        "var_x.shape\n",
        "# sinon: df.to_numpy"
      ],
      "execution_count": 0,
      "outputs": [
        {
          "output_type": "execute_result",
          "data": {
            "text/plain": [
              "(768, 8)"
            ]
          },
          "metadata": {
            "tags": []
          },
          "execution_count": 283
        }
      ]
    },
    {
      "cell_type": "code",
      "metadata": {
        "id": "tTYgJCf3h5Q3",
        "colab_type": "code",
        "outputId": "6e3bae9e-5a4c-4b71-9f62-6b783fa43548",
        "colab": {
          "base_uri": "https://localhost:8080/",
          "height": 34
        }
      },
      "source": [
        "var_y = np.array(df.iloc[:,8], dtype = int)\n",
        "var_y.shape"
      ],
      "execution_count": 0,
      "outputs": [
        {
          "output_type": "execute_result",
          "data": {
            "text/plain": [
              "(768,)"
            ]
          },
          "metadata": {
            "tags": []
          },
          "execution_count": 284
        }
      ]
    },
    {
      "cell_type": "code",
      "metadata": {
        "id": "o8UQ-ubhiHzF",
        "colab_type": "code",
        "colab": {}
      },
      "source": [
        "from  keras import models, layers\n",
        "from  keras import Sequential\n",
        "from  keras import utils\n",
        "from keras.layers import Dense, Input"
      ],
      "execution_count": 0,
      "outputs": []
    },
    {
      "cell_type": "code",
      "metadata": {
        "id": "E53gJTUeyDIt",
        "colab_type": "code",
        "colab": {}
      },
      "source": [
        "keras.backend.clear_session()"
      ],
      "execution_count": 0,
      "outputs": []
    },
    {
      "cell_type": "code",
      "metadata": {
        "id": "UXY4fndGon0k",
        "colab_type": "code",
        "colab": {}
      },
      "source": [
        "model = Sequential()"
      ],
      "execution_count": 0,
      "outputs": []
    },
    {
      "cell_type": "code",
      "metadata": {
        "id": "V3vQL28Wpbgf",
        "colab_type": "code",
        "colab": {}
      },
      "source": [
        "# Définition de la couche d'entrée (input_shape, 8 variables = 8 colonnes), n de neurones = 64:\n",
        "model.add(Dense(units=20, activation='relu', input_shape=(8,))) # couche d'entrée (inout_shape) + couche cachée (units = n de neurones)\n",
        "model.add(Dense(units=20, activation='sigmoid'))\n",
        "model.add(Dense(units=1, activation='sigmoid')) # couche de sortie"
      ],
      "execution_count": 0,
      "outputs": []
    },
    {
      "cell_type": "code",
      "metadata": {
        "id": "2KsUzmBdpHhb",
        "colab_type": "code",
        "colab": {}
      },
      "source": [
        "# définition de la couche de sortie (units = nombre de neurones, 1 = le nombre de réponse: OUI ou NON, 1 ou 0):\n"
      ],
      "execution_count": 0,
      "outputs": []
    },
    {
      "cell_type": "code",
      "metadata": {
        "id": "9fcg58nbv2j3",
        "colab_type": "code",
        "outputId": "1e7844f4-8e10-4630-9685-34b5e4e50942",
        "colab": {
          "base_uri": "https://localhost:8080/",
          "height": 255
        }
      },
      "source": [
        "model.summary()"
      ],
      "execution_count": 0,
      "outputs": [
        {
          "output_type": "stream",
          "text": [
            "Model: \"sequential_1\"\n",
            "_________________________________________________________________\n",
            "Layer (type)                 Output Shape              Param #   \n",
            "=================================================================\n",
            "dense_1 (Dense)              (None, 20)                180       \n",
            "_________________________________________________________________\n",
            "dense_2 (Dense)              (None, 20)                420       \n",
            "_________________________________________________________________\n",
            "dense_3 (Dense)              (None, 1)                 21        \n",
            "=================================================================\n",
            "Total params: 621\n",
            "Trainable params: 621\n",
            "Non-trainable params: 0\n",
            "_________________________________________________________________\n"
          ],
          "name": "stdout"
        }
      ]
    },
    {
      "cell_type": "code",
      "metadata": {
        "id": "JLsqmWmzwDXH",
        "colab_type": "code",
        "outputId": "1e1c3b2f-c037-4af6-902f-5bf86e4b2020",
        "colab": {
          "base_uri": "https://localhost:8080/",
          "height": 369
        }
      },
      "source": [
        "from keras.utils import plot_model\n",
        "plot_model(model, to_file='model.png')"
      ],
      "execution_count": 0,
      "outputs": [
        {
          "output_type": "execute_result",
          "data": {
            "image/png": "[encoded data removed]",
            "text/plain": [
              "<IPython.core.display.Image object>"
            ]
          },
          "metadata": {
            "tags": []
          },
          "execution_count": 290
        }
      ]
    },
    {
      "cell_type": "code",
      "metadata": {
        "id": "aYlWXcVXyAfM",
        "colab_type": "code",
        "colab": {}
      },
      "source": [
        "# Adagrad\n",
        "model.compile(loss='binary_crossentropy',\n",
        "              optimizer='adam',\n",
        "              metrics=['accuracy','mse'])"
      ],
      "execution_count": 0,
      "outputs": []
    },
    {
      "cell_type": "code",
      "metadata": {
        "id": "Lfy2Hoba4rkq",
        "colab_type": "code",
        "outputId": "f0c16d4c-d13e-4437-f16d-f67a4c919320",
        "colab": {
          "base_uri": "https://localhost:8080/",
          "height": 1000
        }
      },
      "source": [
        "#model.fit(var_x, var_y, epochs=5, batch_size=50)\n",
        "history = model.fit(var_x, var_y, epochs=200,validation_split=0.1)"
      ],
      "execution_count": 0,
      "outputs": [
        {
          "output_type": "stream",
          "text": [
            "Train on 691 samples, validate on 77 samples\n",
            "Epoch 1/200\n",
            "691/691 [==============================] - 0s 540us/step - loss: 1.0854 - acc: 0.3430 - mean_squared_error: 0.4110 - val_loss: 0.8946 - val_acc: 0.4026 - val_mean_squared_error: 0.3360\n",
            "Epoch 2/200\n",
            "691/691 [==============================] - 0s 55us/step - loss: 0.7991 - acc: 0.3444 - mean_squared_error: 0.2981 - val_loss: 0.7741 - val_acc: 0.4156 - val_mean_squared_error: 0.2871\n",
            "Epoch 3/200\n",
            "691/691 [==============================] - 0s 55us/step - loss: 0.7094 - acc: 0.5789 - mean_squared_error: 0.2571 - val_loss: 0.7140 - val_acc: 0.5195 - val_mean_squared_error: 0.2599\n",
            "Epoch 4/200\n",
            "691/691 [==============================] - 0s 50us/step - loss: 0.6720 - acc: 0.6425 - mean_squared_error: 0.2393 - val_loss: 0.6869 - val_acc: 0.5584 - val_mean_squared_error: 0.2468\n",
            "Epoch 5/200\n",
            "691/691 [==============================] - 0s 46us/step - loss: 0.6505 - acc: 0.6512 - mean_squared_error: 0.2289 - val_loss: 0.6783 - val_acc: 0.5974 - val_mean_squared_error: 0.2427\n",
            "Epoch 6/200\n",
            "691/691 [==============================] - 0s 47us/step - loss: 0.6366 - acc: 0.6454 - mean_squared_error: 0.2225 - val_loss: 0.6713 - val_acc: 0.5974 - val_mean_squared_error: 0.2396\n",
            "Epoch 7/200\n",
            "691/691 [==============================] - 0s 49us/step - loss: 0.6234 - acc: 0.6454 - mean_squared_error: 0.2167 - val_loss: 0.6719 - val_acc: 0.5974 - val_mean_squared_error: 0.2399\n",
            "Epoch 8/200\n",
            "691/691 [==============================] - 0s 50us/step - loss: 0.6169 - acc: 0.6498 - mean_squared_error: 0.2140 - val_loss: 0.6608 - val_acc: 0.5974 - val_mean_squared_error: 0.2346\n",
            "Epoch 9/200\n",
            "691/691 [==============================] - 0s 51us/step - loss: 0.6130 - acc: 0.6498 - mean_squared_error: 0.2124 - val_loss: 0.6555 - val_acc: 0.5974 - val_mean_squared_error: 0.2322\n",
            "Epoch 10/200\n",
            "691/691 [==============================] - 0s 56us/step - loss: 0.6096 - acc: 0.6512 - mean_squared_error: 0.2108 - val_loss: 0.6513 - val_acc: 0.5974 - val_mean_squared_error: 0.2303\n",
            "Epoch 11/200\n",
            "691/691 [==============================] - 0s 51us/step - loss: 0.6062 - acc: 0.6512 - mean_squared_error: 0.2095 - val_loss: 0.6480 - val_acc: 0.5844 - val_mean_squared_error: 0.2288\n",
            "Epoch 12/200\n",
            "691/691 [==============================] - 0s 51us/step - loss: 0.6042 - acc: 0.6585 - mean_squared_error: 0.2085 - val_loss: 0.6523 - val_acc: 0.5714 - val_mean_squared_error: 0.2307\n",
            "Epoch 13/200\n",
            "691/691 [==============================] - 0s 45us/step - loss: 0.6007 - acc: 0.6643 - mean_squared_error: 0.2069 - val_loss: 0.6408 - val_acc: 0.5974 - val_mean_squared_error: 0.2254\n",
            "Epoch 14/200\n",
            "691/691 [==============================] - 0s 47us/step - loss: 0.5982 - acc: 0.6628 - mean_squared_error: 0.2057 - val_loss: 0.6425 - val_acc: 0.5974 - val_mean_squared_error: 0.2261\n",
            "Epoch 15/200\n",
            "691/691 [==============================] - 0s 50us/step - loss: 0.5965 - acc: 0.6889 - mean_squared_error: 0.2049 - val_loss: 0.6397 - val_acc: 0.5714 - val_mean_squared_error: 0.2248\n",
            "Epoch 16/200\n",
            "691/691 [==============================] - 0s 51us/step - loss: 0.5935 - acc: 0.6918 - mean_squared_error: 0.2036 - val_loss: 0.6432 - val_acc: 0.5844 - val_mean_squared_error: 0.2263\n",
            "Epoch 17/200\n",
            "691/691 [==============================] - 0s 50us/step - loss: 0.5919 - acc: 0.6874 - mean_squared_error: 0.2029 - val_loss: 0.6392 - val_acc: 0.5974 - val_mean_squared_error: 0.2245\n",
            "Epoch 18/200\n",
            "691/691 [==============================] - 0s 53us/step - loss: 0.5912 - acc: 0.6961 - mean_squared_error: 0.2025 - val_loss: 0.6361 - val_acc: 0.5974 - val_mean_squared_error: 0.2229\n",
            "Epoch 19/200\n",
            "691/691 [==============================] - 0s 46us/step - loss: 0.5893 - acc: 0.6860 - mean_squared_error: 0.2017 - val_loss: 0.6389 - val_acc: 0.5974 - val_mean_squared_error: 0.2243\n",
            "Epoch 20/200\n",
            "691/691 [==============================] - 0s 54us/step - loss: 0.5878 - acc: 0.6903 - mean_squared_error: 0.2009 - val_loss: 0.6330 - val_acc: 0.6104 - val_mean_squared_error: 0.2216\n",
            "Epoch 21/200\n",
            "691/691 [==============================] - 0s 50us/step - loss: 0.5853 - acc: 0.6889 - mean_squared_error: 0.1999 - val_loss: 0.6346 - val_acc: 0.5974 - val_mean_squared_error: 0.2219\n",
            "Epoch 22/200\n",
            "691/691 [==============================] - 0s 46us/step - loss: 0.5860 - acc: 0.6860 - mean_squared_error: 0.2002 - val_loss: 0.6306 - val_acc: 0.6104 - val_mean_squared_error: 0.2208\n",
            "Epoch 23/200\n",
            "691/691 [==============================] - 0s 50us/step - loss: 0.5865 - acc: 0.6889 - mean_squared_error: 0.2004 - val_loss: 0.6342 - val_acc: 0.5974 - val_mean_squared_error: 0.2217\n",
            "Epoch 24/200\n",
            "691/691 [==============================] - 0s 52us/step - loss: 0.5840 - acc: 0.6874 - mean_squared_error: 0.1995 - val_loss: 0.6262 - val_acc: 0.5974 - val_mean_squared_error: 0.2186\n",
            "Epoch 25/200\n",
            "691/691 [==============================] - 0s 50us/step - loss: 0.5856 - acc: 0.6889 - mean_squared_error: 0.2000 - val_loss: 0.6280 - val_acc: 0.5974 - val_mean_squared_error: 0.2191\n",
            "Epoch 26/200\n",
            "691/691 [==============================] - 0s 56us/step - loss: 0.5853 - acc: 0.6787 - mean_squared_error: 0.1998 - val_loss: 0.6242 - val_acc: 0.6104 - val_mean_squared_error: 0.2174\n",
            "Epoch 27/200\n",
            "691/691 [==============================] - 0s 48us/step - loss: 0.5813 - acc: 0.6860 - mean_squared_error: 0.1984 - val_loss: 0.6301 - val_acc: 0.5974 - val_mean_squared_error: 0.2200\n",
            "Epoch 28/200\n",
            "691/691 [==============================] - 0s 50us/step - loss: 0.5795 - acc: 0.6918 - mean_squared_error: 0.1973 - val_loss: 0.6242 - val_acc: 0.5844 - val_mean_squared_error: 0.2173\n",
            "Epoch 29/200\n",
            "691/691 [==============================] - 0s 55us/step - loss: 0.5774 - acc: 0.6889 - mean_squared_error: 0.1964 - val_loss: 0.6347 - val_acc: 0.5974 - val_mean_squared_error: 0.2214\n",
            "Epoch 30/200\n",
            "691/691 [==============================] - 0s 49us/step - loss: 0.5789 - acc: 0.6918 - mean_squared_error: 0.1971 - val_loss: 0.6214 - val_acc: 0.5974 - val_mean_squared_error: 0.2163\n",
            "Epoch 31/200\n",
            "691/691 [==============================] - 0s 58us/step - loss: 0.5759 - acc: 0.6889 - mean_squared_error: 0.1959 - val_loss: 0.6221 - val_acc: 0.5974 - val_mean_squared_error: 0.2165\n",
            "Epoch 32/200\n",
            "691/691 [==============================] - 0s 51us/step - loss: 0.5730 - acc: 0.6932 - mean_squared_error: 0.1944 - val_loss: 0.6226 - val_acc: 0.5844 - val_mean_squared_error: 0.2166\n",
            "Epoch 33/200\n",
            "691/691 [==============================] - 0s 49us/step - loss: 0.5715 - acc: 0.6918 - mean_squared_error: 0.1938 - val_loss: 0.6246 - val_acc: 0.5844 - val_mean_squared_error: 0.2174\n",
            "Epoch 34/200\n",
            "691/691 [==============================] - 0s 48us/step - loss: 0.5718 - acc: 0.6975 - mean_squared_error: 0.1938 - val_loss: 0.6273 - val_acc: 0.5844 - val_mean_squared_error: 0.2184\n",
            "Epoch 35/200\n",
            "691/691 [==============================] - 0s 54us/step - loss: 0.5739 - acc: 0.6946 - mean_squared_error: 0.1950 - val_loss: 0.6158 - val_acc: 0.6104 - val_mean_squared_error: 0.2139\n",
            "Epoch 36/200\n",
            "691/691 [==============================] - 0s 52us/step - loss: 0.5712 - acc: 0.7019 - mean_squared_error: 0.1936 - val_loss: 0.6321 - val_acc: 0.5974 - val_mean_squared_error: 0.2204\n",
            "Epoch 37/200\n",
            "691/691 [==============================] - 0s 61us/step - loss: 0.5668 - acc: 0.7265 - mean_squared_error: 0.1916 - val_loss: 0.6238 - val_acc: 0.6104 - val_mean_squared_error: 0.2174\n",
            "Epoch 38/200\n",
            "691/691 [==============================] - 0s 46us/step - loss: 0.5671 - acc: 0.7164 - mean_squared_error: 0.1919 - val_loss: 0.6364 - val_acc: 0.6104 - val_mean_squared_error: 0.2221\n",
            "Epoch 39/200\n",
            "691/691 [==============================] - 0s 57us/step - loss: 0.5659 - acc: 0.7250 - mean_squared_error: 0.1914 - val_loss: 0.6257 - val_acc: 0.6234 - val_mean_squared_error: 0.2177\n",
            "Epoch 40/200\n",
            "691/691 [==============================] - 0s 55us/step - loss: 0.5647 - acc: 0.7192 - mean_squared_error: 0.1910 - val_loss: 0.6323 - val_acc: 0.6234 - val_mean_squared_error: 0.2206\n",
            "Epoch 41/200\n",
            "691/691 [==============================] - 0s 53us/step - loss: 0.5638 - acc: 0.7221 - mean_squared_error: 0.1903 - val_loss: 0.6306 - val_acc: 0.6104 - val_mean_squared_error: 0.2195\n",
            "Epoch 42/200\n",
            "691/691 [==============================] - 0s 63us/step - loss: 0.5621 - acc: 0.7236 - mean_squared_error: 0.1897 - val_loss: 0.6313 - val_acc: 0.6104 - val_mean_squared_error: 0.2203\n",
            "Epoch 43/200\n",
            "691/691 [==============================] - 0s 52us/step - loss: 0.5599 - acc: 0.7207 - mean_squared_error: 0.1888 - val_loss: 0.6263 - val_acc: 0.6494 - val_mean_squared_error: 0.2180\n",
            "Epoch 44/200\n",
            "691/691 [==============================] - 0s 55us/step - loss: 0.5587 - acc: 0.7294 - mean_squared_error: 0.1882 - val_loss: 0.6379 - val_acc: 0.6364 - val_mean_squared_error: 0.2227\n",
            "Epoch 45/200\n",
            "691/691 [==============================] - 0s 54us/step - loss: 0.5585 - acc: 0.7294 - mean_squared_error: 0.1882 - val_loss: 0.6242 - val_acc: 0.6364 - val_mean_squared_error: 0.2169\n",
            "Epoch 46/200\n",
            "691/691 [==============================] - 0s 57us/step - loss: 0.5579 - acc: 0.7236 - mean_squared_error: 0.1881 - val_loss: 0.6191 - val_acc: 0.6883 - val_mean_squared_error: 0.2153\n",
            "Epoch 47/200\n",
            "691/691 [==============================] - 0s 60us/step - loss: 0.5580 - acc: 0.7279 - mean_squared_error: 0.1882 - val_loss: 0.6290 - val_acc: 0.6364 - val_mean_squared_error: 0.2186\n",
            "Epoch 48/200\n",
            "691/691 [==============================] - 0s 51us/step - loss: 0.5565 - acc: 0.7337 - mean_squared_error: 0.1874 - val_loss: 0.6273 - val_acc: 0.6494 - val_mean_squared_error: 0.2183\n",
            "Epoch 49/200\n",
            "691/691 [==============================] - 0s 70us/step - loss: 0.5540 - acc: 0.7337 - mean_squared_error: 0.1864 - val_loss: 0.6229 - val_acc: 0.6753 - val_mean_squared_error: 0.2166\n",
            "Epoch 50/200\n",
            "691/691 [==============================] - 0s 54us/step - loss: 0.5545 - acc: 0.7337 - mean_squared_error: 0.1866 - val_loss: 0.6265 - val_acc: 0.6753 - val_mean_squared_error: 0.2179\n",
            "Epoch 51/200\n",
            "691/691 [==============================] - 0s 54us/step - loss: 0.5523 - acc: 0.7308 - mean_squared_error: 0.1856 - val_loss: 0.6249 - val_acc: 0.6753 - val_mean_squared_error: 0.2169\n",
            "Epoch 52/200\n",
            "691/691 [==============================] - 0s 55us/step - loss: 0.5494 - acc: 0.7308 - mean_squared_error: 0.1843 - val_loss: 0.6289 - val_acc: 0.6494 - val_mean_squared_error: 0.2184\n",
            "Epoch 53/200\n",
            "691/691 [==============================] - 0s 52us/step - loss: 0.5499 - acc: 0.7352 - mean_squared_error: 0.1846 - val_loss: 0.6215 - val_acc: 0.6623 - val_mean_squared_error: 0.2153\n",
            "Epoch 54/200\n",
            "691/691 [==============================] - 0s 50us/step - loss: 0.5487 - acc: 0.7337 - mean_squared_error: 0.1841 - val_loss: 0.6226 - val_acc: 0.6753 - val_mean_squared_error: 0.2156\n",
            "Epoch 55/200\n",
            "691/691 [==============================] - 0s 62us/step - loss: 0.5488 - acc: 0.7395 - mean_squared_error: 0.1842 - val_loss: 0.6218 - val_acc: 0.6623 - val_mean_squared_error: 0.2156\n",
            "Epoch 56/200\n",
            "691/691 [==============================] - 0s 58us/step - loss: 0.5481 - acc: 0.7366 - mean_squared_error: 0.1838 - val_loss: 0.6266 - val_acc: 0.6623 - val_mean_squared_error: 0.2175\n",
            "Epoch 57/200\n",
            "691/691 [==============================] - 0s 53us/step - loss: 0.5466 - acc: 0.7381 - mean_squared_error: 0.1832 - val_loss: 0.6198 - val_acc: 0.6623 - val_mean_squared_error: 0.2146\n",
            "Epoch 58/200\n",
            "691/691 [==============================] - 0s 49us/step - loss: 0.5492 - acc: 0.7381 - mean_squared_error: 0.1845 - val_loss: 0.6176 - val_acc: 0.6753 - val_mean_squared_error: 0.2133\n",
            "Epoch 59/200\n",
            "691/691 [==============================] - 0s 59us/step - loss: 0.5480 - acc: 0.7265 - mean_squared_error: 0.1840 - val_loss: 0.6244 - val_acc: 0.6623 - val_mean_squared_error: 0.2169\n",
            "Epoch 60/200\n",
            "691/691 [==============================] - 0s 48us/step - loss: 0.5472 - acc: 0.7410 - mean_squared_error: 0.1833 - val_loss: 0.6258 - val_acc: 0.6623 - val_mean_squared_error: 0.2168\n",
            "Epoch 61/200\n",
            "691/691 [==============================] - 0s 70us/step - loss: 0.5441 - acc: 0.7395 - mean_squared_error: 0.1823 - val_loss: 0.6245 - val_acc: 0.6623 - val_mean_squared_error: 0.2170\n",
            "Epoch 62/200\n",
            "691/691 [==============================] - 0s 57us/step - loss: 0.5434 - acc: 0.7279 - mean_squared_error: 0.1820 - val_loss: 0.6199 - val_acc: 0.6623 - val_mean_squared_error: 0.2141\n",
            "Epoch 63/200\n",
            "691/691 [==============================] - 0s 51us/step - loss: 0.5414 - acc: 0.7410 - mean_squared_error: 0.1812 - val_loss: 0.6269 - val_acc: 0.6623 - val_mean_squared_error: 0.2187\n",
            "Epoch 64/200\n",
            "691/691 [==============================] - 0s 52us/step - loss: 0.5459 - acc: 0.7294 - mean_squared_error: 0.1830 - val_loss: 0.6224 - val_acc: 0.6623 - val_mean_squared_error: 0.2155\n",
            "Epoch 65/200\n",
            "691/691 [==============================] - 0s 53us/step - loss: 0.5430 - acc: 0.7410 - mean_squared_error: 0.1819 - val_loss: 0.6240 - val_acc: 0.6494 - val_mean_squared_error: 0.2163\n",
            "Epoch 66/200\n",
            "691/691 [==============================] - 0s 52us/step - loss: 0.5452 - acc: 0.7424 - mean_squared_error: 0.1824 - val_loss: 0.6232 - val_acc: 0.6753 - val_mean_squared_error: 0.2160\n",
            "Epoch 67/200\n",
            "691/691 [==============================] - 0s 66us/step - loss: 0.5356 - acc: 0.7424 - mean_squared_error: 0.1788 - val_loss: 0.6341 - val_acc: 0.6623 - val_mean_squared_error: 0.2183\n",
            "Epoch 68/200\n",
            "691/691 [==============================] - 0s 56us/step - loss: 0.5414 - acc: 0.7352 - mean_squared_error: 0.1814 - val_loss: 0.6289 - val_acc: 0.6883 - val_mean_squared_error: 0.2173\n",
            "Epoch 69/200\n",
            "691/691 [==============================] - 0s 54us/step - loss: 0.5364 - acc: 0.7438 - mean_squared_error: 0.1794 - val_loss: 0.6203 - val_acc: 0.6883 - val_mean_squared_error: 0.2141\n",
            "Epoch 70/200\n",
            "691/691 [==============================] - 0s 54us/step - loss: 0.5351 - acc: 0.7496 - mean_squared_error: 0.1785 - val_loss: 0.6184 - val_acc: 0.6883 - val_mean_squared_error: 0.2131\n",
            "Epoch 71/200\n",
            "691/691 [==============================] - 0s 67us/step - loss: 0.5351 - acc: 0.7323 - mean_squared_error: 0.1790 - val_loss: 0.6326 - val_acc: 0.6623 - val_mean_squared_error: 0.2189\n",
            "Epoch 72/200\n",
            "691/691 [==============================] - 0s 52us/step - loss: 0.5318 - acc: 0.7496 - mean_squared_error: 0.1773 - val_loss: 0.6173 - val_acc: 0.6883 - val_mean_squared_error: 0.2125\n",
            "Epoch 73/200\n",
            "691/691 [==============================] - 0s 62us/step - loss: 0.5311 - acc: 0.7381 - mean_squared_error: 0.1771 - val_loss: 0.6150 - val_acc: 0.6883 - val_mean_squared_error: 0.2106\n",
            "Epoch 74/200\n",
            "691/691 [==============================] - 0s 58us/step - loss: 0.5288 - acc: 0.7482 - mean_squared_error: 0.1762 - val_loss: 0.6294 - val_acc: 0.6623 - val_mean_squared_error: 0.2179\n",
            "Epoch 75/200\n",
            "691/691 [==============================] - 0s 54us/step - loss: 0.5290 - acc: 0.7381 - mean_squared_error: 0.1761 - val_loss: 0.6236 - val_acc: 0.6883 - val_mean_squared_error: 0.2144\n",
            "Epoch 76/200\n",
            "691/691 [==============================] - 0s 51us/step - loss: 0.5277 - acc: 0.7410 - mean_squared_error: 0.1756 - val_loss: 0.6258 - val_acc: 0.6494 - val_mean_squared_error: 0.2160\n",
            "Epoch 77/200\n",
            "691/691 [==============================] - 0s 51us/step - loss: 0.5271 - acc: 0.7525 - mean_squared_error: 0.1754 - val_loss: 0.6276 - val_acc: 0.6883 - val_mean_squared_error: 0.2162\n",
            "Epoch 78/200\n",
            "691/691 [==============================] - 0s 53us/step - loss: 0.5280 - acc: 0.7352 - mean_squared_error: 0.1758 - val_loss: 0.6342 - val_acc: 0.6623 - val_mean_squared_error: 0.2182\n",
            "Epoch 79/200\n",
            "691/691 [==============================] - 0s 60us/step - loss: 0.5287 - acc: 0.7424 - mean_squared_error: 0.1762 - val_loss: 0.6239 - val_acc: 0.6623 - val_mean_squared_error: 0.2149\n",
            "Epoch 80/200\n",
            "691/691 [==============================] - 0s 61us/step - loss: 0.5264 - acc: 0.7453 - mean_squared_error: 0.1753 - val_loss: 0.6246 - val_acc: 0.6883 - val_mean_squared_error: 0.2146\n",
            "Epoch 81/200\n",
            "691/691 [==============================] - 0s 62us/step - loss: 0.5282 - acc: 0.7496 - mean_squared_error: 0.1760 - val_loss: 0.6215 - val_acc: 0.7013 - val_mean_squared_error: 0.2131\n",
            "Epoch 82/200\n",
            "691/691 [==============================] - 0s 56us/step - loss: 0.5233 - acc: 0.7482 - mean_squared_error: 0.1739 - val_loss: 0.6302 - val_acc: 0.6883 - val_mean_squared_error: 0.2181\n",
            "Epoch 83/200\n",
            "691/691 [==============================] - 0s 57us/step - loss: 0.5271 - acc: 0.7438 - mean_squared_error: 0.1756 - val_loss: 0.6154 - val_acc: 0.6883 - val_mean_squared_error: 0.2106\n",
            "Epoch 84/200\n",
            "691/691 [==============================] - 0s 52us/step - loss: 0.5275 - acc: 0.7467 - mean_squared_error: 0.1759 - val_loss: 0.6168 - val_acc: 0.6753 - val_mean_squared_error: 0.2106\n",
            "Epoch 85/200\n",
            "691/691 [==============================] - 0s 58us/step - loss: 0.5257 - acc: 0.7410 - mean_squared_error: 0.1751 - val_loss: 0.6226 - val_acc: 0.6883 - val_mean_squared_error: 0.2148\n",
            "Epoch 86/200\n",
            "691/691 [==============================] - 0s 50us/step - loss: 0.5222 - acc: 0.7453 - mean_squared_error: 0.1732 - val_loss: 0.6313 - val_acc: 0.6623 - val_mean_squared_error: 0.2172\n",
            "Epoch 87/200\n",
            "691/691 [==============================] - 0s 62us/step - loss: 0.5204 - acc: 0.7453 - mean_squared_error: 0.1727 - val_loss: 0.6227 - val_acc: 0.7143 - val_mean_squared_error: 0.2127\n",
            "Epoch 88/200\n",
            "691/691 [==============================] - 0s 67us/step - loss: 0.5256 - acc: 0.7467 - mean_squared_error: 0.1749 - val_loss: 0.6075 - val_acc: 0.7013 - val_mean_squared_error: 0.2065\n",
            "Epoch 89/200\n",
            "691/691 [==============================] - 0s 59us/step - loss: 0.5166 - acc: 0.7612 - mean_squared_error: 0.1709 - val_loss: 0.6496 - val_acc: 0.6883 - val_mean_squared_error: 0.2234\n",
            "Epoch 90/200\n",
            "691/691 [==============================] - 0s 50us/step - loss: 0.5231 - acc: 0.7323 - mean_squared_error: 0.1749 - val_loss: 0.6134 - val_acc: 0.6883 - val_mean_squared_error: 0.2101\n",
            "Epoch 91/200\n",
            "691/691 [==============================] - 0s 52us/step - loss: 0.5185 - acc: 0.7540 - mean_squared_error: 0.1722 - val_loss: 0.6385 - val_acc: 0.6883 - val_mean_squared_error: 0.2192\n",
            "Epoch 92/200\n",
            "691/691 [==============================] - 0s 58us/step - loss: 0.5189 - acc: 0.7410 - mean_squared_error: 0.1724 - val_loss: 0.6227 - val_acc: 0.6623 - val_mean_squared_error: 0.2130\n",
            "Epoch 93/200\n",
            "691/691 [==============================] - 0s 51us/step - loss: 0.5183 - acc: 0.7453 - mean_squared_error: 0.1720 - val_loss: 0.6264 - val_acc: 0.6753 - val_mean_squared_error: 0.2150\n",
            "Epoch 94/200\n",
            "691/691 [==============================] - 0s 64us/step - loss: 0.5184 - acc: 0.7554 - mean_squared_error: 0.1719 - val_loss: 0.6316 - val_acc: 0.6883 - val_mean_squared_error: 0.2163\n",
            "Epoch 95/200\n",
            "691/691 [==============================] - 0s 63us/step - loss: 0.5205 - acc: 0.7424 - mean_squared_error: 0.1733 - val_loss: 0.6314 - val_acc: 0.6753 - val_mean_squared_error: 0.2157\n",
            "Epoch 96/200\n",
            "691/691 [==============================] - 0s 55us/step - loss: 0.5191 - acc: 0.7424 - mean_squared_error: 0.1723 - val_loss: 0.6105 - val_acc: 0.7143 - val_mean_squared_error: 0.2074\n",
            "Epoch 97/200\n",
            "691/691 [==============================] - 0s 58us/step - loss: 0.5146 - acc: 0.7540 - mean_squared_error: 0.1704 - val_loss: 0.6265 - val_acc: 0.6883 - val_mean_squared_error: 0.2142\n",
            "Epoch 98/200\n",
            "691/691 [==============================] - 0s 50us/step - loss: 0.5159 - acc: 0.7453 - mean_squared_error: 0.1709 - val_loss: 0.6302 - val_acc: 0.6883 - val_mean_squared_error: 0.2149\n",
            "Epoch 99/200\n",
            "691/691 [==============================] - 0s 62us/step - loss: 0.5150 - acc: 0.7467 - mean_squared_error: 0.1708 - val_loss: 0.6301 - val_acc: 0.6753 - val_mean_squared_error: 0.2156\n",
            "Epoch 100/200\n",
            "691/691 [==============================] - 0s 64us/step - loss: 0.5124 - acc: 0.7453 - mean_squared_error: 0.1698 - val_loss: 0.6147 - val_acc: 0.6883 - val_mean_squared_error: 0.2090\n",
            "Epoch 101/200\n",
            "691/691 [==============================] - 0s 55us/step - loss: 0.5104 - acc: 0.7525 - mean_squared_error: 0.1687 - val_loss: 0.6287 - val_acc: 0.6623 - val_mean_squared_error: 0.2159\n",
            "Epoch 102/200\n",
            "691/691 [==============================] - 0s 58us/step - loss: 0.5106 - acc: 0.7511 - mean_squared_error: 0.1688 - val_loss: 0.6325 - val_acc: 0.6753 - val_mean_squared_error: 0.2151\n",
            "Epoch 103/200\n",
            "691/691 [==============================] - 0s 55us/step - loss: 0.5161 - acc: 0.7453 - mean_squared_error: 0.1712 - val_loss: 0.6369 - val_acc: 0.6623 - val_mean_squared_error: 0.2187\n",
            "Epoch 104/200\n",
            "691/691 [==============================] - 0s 54us/step - loss: 0.5168 - acc: 0.7482 - mean_squared_error: 0.1714 - val_loss: 0.6205 - val_acc: 0.6883 - val_mean_squared_error: 0.2107\n",
            "Epoch 105/200\n",
            "691/691 [==============================] - 0s 57us/step - loss: 0.5100 - acc: 0.7467 - mean_squared_error: 0.1688 - val_loss: 0.6365 - val_acc: 0.6753 - val_mean_squared_error: 0.2173\n",
            "Epoch 106/200\n",
            "691/691 [==============================] - 0s 54us/step - loss: 0.5071 - acc: 0.7438 - mean_squared_error: 0.1673 - val_loss: 0.6211 - val_acc: 0.6753 - val_mean_squared_error: 0.2107\n",
            "Epoch 107/200\n",
            "691/691 [==============================] - 0s 58us/step - loss: 0.5109 - acc: 0.7540 - mean_squared_error: 0.1693 - val_loss: 0.6255 - val_acc: 0.6883 - val_mean_squared_error: 0.2119\n",
            "Epoch 108/200\n",
            "691/691 [==============================] - 0s 55us/step - loss: 0.5086 - acc: 0.7467 - mean_squared_error: 0.1678 - val_loss: 0.6309 - val_acc: 0.6753 - val_mean_squared_error: 0.2145\n",
            "Epoch 109/200\n",
            "691/691 [==============================] - 0s 59us/step - loss: 0.5083 - acc: 0.7525 - mean_squared_error: 0.1679 - val_loss: 0.6229 - val_acc: 0.6753 - val_mean_squared_error: 0.2114\n",
            "Epoch 110/200\n",
            "691/691 [==============================] - 0s 54us/step - loss: 0.5084 - acc: 0.7525 - mean_squared_error: 0.1681 - val_loss: 0.6231 - val_acc: 0.6883 - val_mean_squared_error: 0.2135\n",
            "Epoch 111/200\n",
            "691/691 [==============================] - 0s 52us/step - loss: 0.5082 - acc: 0.7525 - mean_squared_error: 0.1676 - val_loss: 0.6110 - val_acc: 0.6883 - val_mean_squared_error: 0.2064\n",
            "Epoch 112/200\n",
            "691/691 [==============================] - 0s 62us/step - loss: 0.5094 - acc: 0.7424 - mean_squared_error: 0.1690 - val_loss: 0.6241 - val_acc: 0.6883 - val_mean_squared_error: 0.2132\n",
            "Epoch 113/200\n",
            "691/691 [==============================] - 0s 54us/step - loss: 0.5050 - acc: 0.7569 - mean_squared_error: 0.1662 - val_loss: 0.6218 - val_acc: 0.6753 - val_mean_squared_error: 0.2108\n",
            "Epoch 114/200\n",
            "691/691 [==============================] - 0s 51us/step - loss: 0.5035 - acc: 0.7612 - mean_squared_error: 0.1660 - val_loss: 0.6146 - val_acc: 0.7143 - val_mean_squared_error: 0.2071\n",
            "Epoch 115/200\n",
            "691/691 [==============================] - 0s 59us/step - loss: 0.5174 - acc: 0.7453 - mean_squared_error: 0.1721 - val_loss: 0.6256 - val_acc: 0.6623 - val_mean_squared_error: 0.2142\n",
            "Epoch 116/200\n",
            "691/691 [==============================] - 0s 55us/step - loss: 0.5061 - acc: 0.7482 - mean_squared_error: 0.1673 - val_loss: 0.6206 - val_acc: 0.6623 - val_mean_squared_error: 0.2102\n",
            "Epoch 117/200\n",
            "691/691 [==============================] - 0s 60us/step - loss: 0.5024 - acc: 0.7598 - mean_squared_error: 0.1654 - val_loss: 0.6230 - val_acc: 0.6623 - val_mean_squared_error: 0.2116\n",
            "Epoch 118/200\n",
            "691/691 [==============================] - 0s 67us/step - loss: 0.5032 - acc: 0.7554 - mean_squared_error: 0.1661 - val_loss: 0.6173 - val_acc: 0.6753 - val_mean_squared_error: 0.2096\n",
            "Epoch 119/200\n",
            "691/691 [==============================] - 0s 55us/step - loss: 0.5008 - acc: 0.7511 - mean_squared_error: 0.1652 - val_loss: 0.6229 - val_acc: 0.6883 - val_mean_squared_error: 0.2115\n",
            "Epoch 120/200\n",
            "691/691 [==============================] - 0s 50us/step - loss: 0.5004 - acc: 0.7569 - mean_squared_error: 0.1648 - val_loss: 0.6101 - val_acc: 0.7013 - val_mean_squared_error: 0.2055\n",
            "Epoch 121/200\n",
            "691/691 [==============================] - 0s 51us/step - loss: 0.5034 - acc: 0.7525 - mean_squared_error: 0.1661 - val_loss: 0.6259 - val_acc: 0.6753 - val_mean_squared_error: 0.2119\n",
            "Epoch 122/200\n",
            "691/691 [==============================] - 0s 56us/step - loss: 0.5009 - acc: 0.7453 - mean_squared_error: 0.1656 - val_loss: 0.6148 - val_acc: 0.6883 - val_mean_squared_error: 0.2069\n",
            "Epoch 123/200\n",
            "691/691 [==============================] - 0s 64us/step - loss: 0.4985 - acc: 0.7496 - mean_squared_error: 0.1645 - val_loss: 0.6229 - val_acc: 0.6753 - val_mean_squared_error: 0.2115\n",
            "Epoch 124/200\n",
            "691/691 [==============================] - 0s 81us/step - loss: 0.4974 - acc: 0.7627 - mean_squared_error: 0.1636 - val_loss: 0.6079 - val_acc: 0.7013 - val_mean_squared_error: 0.2051\n",
            "Epoch 125/200\n",
            "691/691 [==============================] - 0s 66us/step - loss: 0.5008 - acc: 0.7540 - mean_squared_error: 0.1653 - val_loss: 0.6062 - val_acc: 0.6883 - val_mean_squared_error: 0.2051\n",
            "Epoch 126/200\n",
            "691/691 [==============================] - 0s 55us/step - loss: 0.5016 - acc: 0.7511 - mean_squared_error: 0.1659 - val_loss: 0.6311 - val_acc: 0.7013 - val_mean_squared_error: 0.2155\n",
            "Epoch 127/200\n",
            "691/691 [==============================] - 0s 51us/step - loss: 0.5015 - acc: 0.7525 - mean_squared_error: 0.1658 - val_loss: 0.5950 - val_acc: 0.7273 - val_mean_squared_error: 0.1982\n",
            "Epoch 128/200\n",
            "691/691 [==============================] - 0s 56us/step - loss: 0.4984 - acc: 0.7511 - mean_squared_error: 0.1641 - val_loss: 0.6213 - val_acc: 0.6883 - val_mean_squared_error: 0.2124\n",
            "Epoch 129/200\n",
            "691/691 [==============================] - 0s 51us/step - loss: 0.4954 - acc: 0.7612 - mean_squared_error: 0.1629 - val_loss: 0.6048 - val_acc: 0.7143 - val_mean_squared_error: 0.2037\n",
            "Epoch 130/200\n",
            "691/691 [==============================] - 0s 55us/step - loss: 0.4915 - acc: 0.7569 - mean_squared_error: 0.1615 - val_loss: 0.6075 - val_acc: 0.7273 - val_mean_squared_error: 0.2048\n",
            "Epoch 131/200\n",
            "691/691 [==============================] - 0s 63us/step - loss: 0.5002 - acc: 0.7496 - mean_squared_error: 0.1653 - val_loss: 0.6294 - val_acc: 0.6883 - val_mean_squared_error: 0.2143\n",
            "Epoch 132/200\n",
            "691/691 [==============================] - 0s 55us/step - loss: 0.4909 - acc: 0.7612 - mean_squared_error: 0.1613 - val_loss: 0.6092 - val_acc: 0.7013 - val_mean_squared_error: 0.2059\n",
            "Epoch 133/200\n",
            "691/691 [==============================] - 0s 55us/step - loss: 0.4910 - acc: 0.7583 - mean_squared_error: 0.1609 - val_loss: 0.6319 - val_acc: 0.6753 - val_mean_squared_error: 0.2125\n",
            "Epoch 134/200\n",
            "691/691 [==============================] - 0s 50us/step - loss: 0.4964 - acc: 0.7598 - mean_squared_error: 0.1630 - val_loss: 0.6307 - val_acc: 0.6883 - val_mean_squared_error: 0.2127\n",
            "Epoch 135/200\n",
            "691/691 [==============================] - 0s 57us/step - loss: 0.4913 - acc: 0.7554 - mean_squared_error: 0.1618 - val_loss: 0.6062 - val_acc: 0.7013 - val_mean_squared_error: 0.2056\n",
            "Epoch 136/200\n",
            "691/691 [==============================] - 0s 53us/step - loss: 0.4929 - acc: 0.7583 - mean_squared_error: 0.1617 - val_loss: 0.6317 - val_acc: 0.6883 - val_mean_squared_error: 0.2159\n",
            "Epoch 137/200\n",
            "691/691 [==============================] - 0s 65us/step - loss: 0.4902 - acc: 0.7525 - mean_squared_error: 0.1613 - val_loss: 0.5922 - val_acc: 0.7273 - val_mean_squared_error: 0.1983\n",
            "Epoch 138/200\n",
            "691/691 [==============================] - 0s 60us/step - loss: 0.4989 - acc: 0.7583 - mean_squared_error: 0.1640 - val_loss: 0.6068 - val_acc: 0.6623 - val_mean_squared_error: 0.2051\n",
            "Epoch 139/200\n",
            "691/691 [==============================] - 0s 51us/step - loss: 0.4885 - acc: 0.7511 - mean_squared_error: 0.1606 - val_loss: 0.6075 - val_acc: 0.7013 - val_mean_squared_error: 0.2048\n",
            "Epoch 140/200\n",
            "691/691 [==============================] - 0s 52us/step - loss: 0.4928 - acc: 0.7583 - mean_squared_error: 0.1618 - val_loss: 0.6171 - val_acc: 0.6883 - val_mean_squared_error: 0.2104\n",
            "Epoch 141/200\n",
            "691/691 [==============================] - 0s 54us/step - loss: 0.4902 - acc: 0.7583 - mean_squared_error: 0.1612 - val_loss: 0.6190 - val_acc: 0.6883 - val_mean_squared_error: 0.2086\n",
            "Epoch 142/200\n",
            "691/691 [==============================] - 0s 57us/step - loss: 0.4854 - acc: 0.7612 - mean_squared_error: 0.1593 - val_loss: 0.6195 - val_acc: 0.7013 - val_mean_squared_error: 0.2115\n",
            "Epoch 143/200\n",
            "691/691 [==============================] - 0s 58us/step - loss: 0.4890 - acc: 0.7554 - mean_squared_error: 0.1606 - val_loss: 0.6134 - val_acc: 0.6883 - val_mean_squared_error: 0.2087\n",
            "Epoch 144/200\n",
            "691/691 [==============================] - 0s 60us/step - loss: 0.4838 - acc: 0.7540 - mean_squared_error: 0.1586 - val_loss: 0.6206 - val_acc: 0.7013 - val_mean_squared_error: 0.2111\n",
            "Epoch 145/200\n",
            "691/691 [==============================] - 0s 51us/step - loss: 0.4854 - acc: 0.7496 - mean_squared_error: 0.1592 - val_loss: 0.6136 - val_acc: 0.7013 - val_mean_squared_error: 0.2085\n",
            "Epoch 146/200\n",
            "691/691 [==============================] - 0s 50us/step - loss: 0.4844 - acc: 0.7612 - mean_squared_error: 0.1587 - val_loss: 0.6198 - val_acc: 0.7143 - val_mean_squared_error: 0.2114\n",
            "Epoch 147/200\n",
            "691/691 [==============================] - 0s 62us/step - loss: 0.4844 - acc: 0.7641 - mean_squared_error: 0.1587 - val_loss: 0.6265 - val_acc: 0.6883 - val_mean_squared_error: 0.2134\n",
            "Epoch 148/200\n",
            "691/691 [==============================] - 0s 57us/step - loss: 0.4852 - acc: 0.7583 - mean_squared_error: 0.1592 - val_loss: 0.6091 - val_acc: 0.7013 - val_mean_squared_error: 0.2067\n",
            "Epoch 149/200\n",
            "691/691 [==============================] - 0s 55us/step - loss: 0.4835 - acc: 0.7569 - mean_squared_error: 0.1584 - val_loss: 0.6332 - val_acc: 0.6623 - val_mean_squared_error: 0.2150\n",
            "Epoch 150/200\n",
            "691/691 [==============================] - 0s 61us/step - loss: 0.4855 - acc: 0.7583 - mean_squared_error: 0.1590 - val_loss: 0.6111 - val_acc: 0.7143 - val_mean_squared_error: 0.2071\n",
            "Epoch 151/200\n",
            "691/691 [==============================] - 0s 55us/step - loss: 0.4844 - acc: 0.7598 - mean_squared_error: 0.1589 - val_loss: 0.6081 - val_acc: 0.7013 - val_mean_squared_error: 0.2061\n",
            "Epoch 152/200\n",
            "691/691 [==============================] - 0s 52us/step - loss: 0.4856 - acc: 0.7627 - mean_squared_error: 0.1595 - val_loss: 0.6077 - val_acc: 0.6883 - val_mean_squared_error: 0.2052\n",
            "Epoch 153/200\n",
            "691/691 [==============================] - 0s 48us/step - loss: 0.4804 - acc: 0.7656 - mean_squared_error: 0.1574 - val_loss: 0.6193 - val_acc: 0.7273 - val_mean_squared_error: 0.2110\n",
            "Epoch 154/200\n",
            "691/691 [==============================] - 0s 66us/step - loss: 0.4786 - acc: 0.7598 - mean_squared_error: 0.1568 - val_loss: 0.6194 - val_acc: 0.6364 - val_mean_squared_error: 0.2100\n",
            "Epoch 155/200\n",
            "691/691 [==============================] - 0s 50us/step - loss: 0.4859 - acc: 0.7598 - mean_squared_error: 0.1599 - val_loss: 0.5896 - val_acc: 0.7143 - val_mean_squared_error: 0.1981\n",
            "Epoch 156/200\n",
            "691/691 [==============================] - 0s 58us/step - loss: 0.4854 - acc: 0.7627 - mean_squared_error: 0.1593 - val_loss: 0.6249 - val_acc: 0.6883 - val_mean_squared_error: 0.2143\n",
            "Epoch 157/200\n",
            "691/691 [==============================] - 0s 67us/step - loss: 0.4782 - acc: 0.7670 - mean_squared_error: 0.1568 - val_loss: 0.6022 - val_acc: 0.6753 - val_mean_squared_error: 0.2039\n",
            "Epoch 158/200\n",
            "691/691 [==============================] - 0s 61us/step - loss: 0.4787 - acc: 0.7612 - mean_squared_error: 0.1567 - val_loss: 0.6228 - val_acc: 0.7273 - val_mean_squared_error: 0.2128\n",
            "Epoch 159/200\n",
            "691/691 [==============================] - 0s 55us/step - loss: 0.4849 - acc: 0.7685 - mean_squared_error: 0.1590 - val_loss: 0.6063 - val_acc: 0.6753 - val_mean_squared_error: 0.2054\n",
            "Epoch 160/200\n",
            "691/691 [==============================] - 0s 51us/step - loss: 0.4830 - acc: 0.7511 - mean_squared_error: 0.1584 - val_loss: 0.6075 - val_acc: 0.6753 - val_mean_squared_error: 0.2063\n",
            "Epoch 161/200\n",
            "691/691 [==============================] - 0s 55us/step - loss: 0.4767 - acc: 0.7569 - mean_squared_error: 0.1560 - val_loss: 0.6113 - val_acc: 0.6623 - val_mean_squared_error: 0.2079\n",
            "Epoch 162/200\n",
            "691/691 [==============================] - 0s 49us/step - loss: 0.4756 - acc: 0.7583 - mean_squared_error: 0.1555 - val_loss: 0.5994 - val_acc: 0.7013 - val_mean_squared_error: 0.2027\n",
            "Epoch 163/200\n",
            "691/691 [==============================] - 0s 67us/step - loss: 0.4764 - acc: 0.7627 - mean_squared_error: 0.1560 - val_loss: 0.6085 - val_acc: 0.7013 - val_mean_squared_error: 0.2074\n",
            "Epoch 164/200\n",
            "691/691 [==============================] - 0s 61us/step - loss: 0.4746 - acc: 0.7685 - mean_squared_error: 0.1552 - val_loss: 0.6209 - val_acc: 0.6494 - val_mean_squared_error: 0.2114\n",
            "Epoch 165/200\n",
            "691/691 [==============================] - 0s 55us/step - loss: 0.4757 - acc: 0.7728 - mean_squared_error: 0.1558 - val_loss: 0.6111 - val_acc: 0.6883 - val_mean_squared_error: 0.2079\n",
            "Epoch 166/200\n",
            "691/691 [==============================] - 0s 54us/step - loss: 0.4754 - acc: 0.7656 - mean_squared_error: 0.1556 - val_loss: 0.5971 - val_acc: 0.7013 - val_mean_squared_error: 0.2024\n",
            "Epoch 167/200\n",
            "691/691 [==============================] - 0s 56us/step - loss: 0.4715 - acc: 0.7685 - mean_squared_error: 0.1538 - val_loss: 0.6599 - val_acc: 0.6364 - val_mean_squared_error: 0.2245\n",
            "Epoch 168/200\n",
            "691/691 [==============================] - 0s 51us/step - loss: 0.4847 - acc: 0.7583 - mean_squared_error: 0.1600 - val_loss: 0.5971 - val_acc: 0.6623 - val_mean_squared_error: 0.2024\n",
            "Epoch 169/200\n",
            "691/691 [==============================] - 0s 53us/step - loss: 0.4729 - acc: 0.7641 - mean_squared_error: 0.1545 - val_loss: 0.6306 - val_acc: 0.6753 - val_mean_squared_error: 0.2151\n",
            "Epoch 170/200\n",
            "691/691 [==============================] - 0s 59us/step - loss: 0.4733 - acc: 0.7670 - mean_squared_error: 0.1547 - val_loss: 0.5922 - val_acc: 0.6753 - val_mean_squared_error: 0.2002\n",
            "Epoch 171/200\n",
            "691/691 [==============================] - 0s 55us/step - loss: 0.4749 - acc: 0.7670 - mean_squared_error: 0.1555 - val_loss: 0.5888 - val_acc: 0.7273 - val_mean_squared_error: 0.1984\n",
            "Epoch 172/200\n",
            "691/691 [==============================] - 0s 57us/step - loss: 0.4747 - acc: 0.7656 - mean_squared_error: 0.1553 - val_loss: 0.6151 - val_acc: 0.6753 - val_mean_squared_error: 0.2106\n",
            "Epoch 173/200\n",
            "691/691 [==============================] - 0s 56us/step - loss: 0.4731 - acc: 0.7699 - mean_squared_error: 0.1545 - val_loss: 0.5849 - val_acc: 0.7143 - val_mean_squared_error: 0.1969\n",
            "Epoch 174/200\n",
            "691/691 [==============================] - 0s 54us/step - loss: 0.4712 - acc: 0.7699 - mean_squared_error: 0.1544 - val_loss: 0.5978 - val_acc: 0.7013 - val_mean_squared_error: 0.2029\n",
            "Epoch 175/200\n",
            "691/691 [==============================] - 0s 61us/step - loss: 0.4698 - acc: 0.7699 - mean_squared_error: 0.1531 - val_loss: 0.6089 - val_acc: 0.7013 - val_mean_squared_error: 0.2076\n",
            "Epoch 176/200\n",
            "691/691 [==============================] - 0s 49us/step - loss: 0.4700 - acc: 0.7699 - mean_squared_error: 0.1538 - val_loss: 0.6054 - val_acc: 0.7013 - val_mean_squared_error: 0.2060\n",
            "Epoch 177/200\n",
            "691/691 [==============================] - 0s 54us/step - loss: 0.4736 - acc: 0.7656 - mean_squared_error: 0.1553 - val_loss: 0.5848 - val_acc: 0.7013 - val_mean_squared_error: 0.1963\n",
            "Epoch 178/200\n",
            "691/691 [==============================] - 0s 61us/step - loss: 0.4681 - acc: 0.7699 - mean_squared_error: 0.1528 - val_loss: 0.6287 - val_acc: 0.6494 - val_mean_squared_error: 0.2159\n",
            "Epoch 179/200\n",
            "691/691 [==============================] - 0s 53us/step - loss: 0.4783 - acc: 0.7612 - mean_squared_error: 0.1569 - val_loss: 0.5824 - val_acc: 0.7273 - val_mean_squared_error: 0.1953\n",
            "Epoch 180/200\n",
            "691/691 [==============================] - 0s 56us/step - loss: 0.4730 - acc: 0.7554 - mean_squared_error: 0.1550 - val_loss: 0.5978 - val_acc: 0.7403 - val_mean_squared_error: 0.2027\n",
            "Epoch 181/200\n",
            "691/691 [==============================] - 0s 56us/step - loss: 0.4747 - acc: 0.7742 - mean_squared_error: 0.1553 - val_loss: 0.6050 - val_acc: 0.6494 - val_mean_squared_error: 0.2057\n",
            "Epoch 182/200\n",
            "691/691 [==============================] - 0s 52us/step - loss: 0.4706 - acc: 0.7757 - mean_squared_error: 0.1537 - val_loss: 0.6401 - val_acc: 0.6623 - val_mean_squared_error: 0.2195\n",
            "Epoch 183/200\n",
            "691/691 [==============================] - 0s 65us/step - loss: 0.4692 - acc: 0.7713 - mean_squared_error: 0.1531 - val_loss: 0.6137 - val_acc: 0.7143 - val_mean_squared_error: 0.2100\n",
            "Epoch 184/200\n",
            "691/691 [==============================] - 0s 55us/step - loss: 0.4668 - acc: 0.7627 - mean_squared_error: 0.1524 - val_loss: 0.6087 - val_acc: 0.6753 - val_mean_squared_error: 0.2074\n",
            "Epoch 185/200\n",
            "691/691 [==============================] - 0s 64us/step - loss: 0.4684 - acc: 0.7786 - mean_squared_error: 0.1532 - val_loss: 0.6178 - val_acc: 0.6623 - val_mean_squared_error: 0.2112\n",
            "Epoch 186/200\n",
            "691/691 [==============================] - 0s 51us/step - loss: 0.4730 - acc: 0.7786 - mean_squared_error: 0.1548 - val_loss: 0.5819 - val_acc: 0.7273 - val_mean_squared_error: 0.1951\n",
            "Epoch 187/200\n",
            "691/691 [==============================] - 0s 52us/step - loss: 0.4712 - acc: 0.7627 - mean_squared_error: 0.1541 - val_loss: 0.6000 - val_acc: 0.7013 - val_mean_squared_error: 0.2036\n",
            "Epoch 188/200\n",
            "691/691 [==============================] - 0s 55us/step - loss: 0.4681 - acc: 0.7641 - mean_squared_error: 0.1531 - val_loss: 0.6073 - val_acc: 0.7143 - val_mean_squared_error: 0.2067\n",
            "Epoch 189/200\n",
            "691/691 [==============================] - 0s 54us/step - loss: 0.4722 - acc: 0.7728 - mean_squared_error: 0.1543 - val_loss: 0.6154 - val_acc: 0.6494 - val_mean_squared_error: 0.2101\n",
            "Epoch 190/200\n",
            "691/691 [==============================] - 0s 59us/step - loss: 0.4719 - acc: 0.7598 - mean_squared_error: 0.1550 - val_loss: 0.6010 - val_acc: 0.6753 - val_mean_squared_error: 0.2033\n",
            "Epoch 191/200\n",
            "691/691 [==============================] - 0s 50us/step - loss: 0.4642 - acc: 0.7800 - mean_squared_error: 0.1512 - val_loss: 0.6122 - val_acc: 0.6623 - val_mean_squared_error: 0.2089\n",
            "Epoch 192/200\n",
            "691/691 [==============================] - 0s 52us/step - loss: 0.4639 - acc: 0.7598 - mean_squared_error: 0.1516 - val_loss: 0.5898 - val_acc: 0.7143 - val_mean_squared_error: 0.1996\n",
            "Epoch 193/200\n",
            "691/691 [==============================] - 0s 58us/step - loss: 0.4631 - acc: 0.7800 - mean_squared_error: 0.1510 - val_loss: 0.6158 - val_acc: 0.6623 - val_mean_squared_error: 0.2106\n",
            "Epoch 194/200\n",
            "691/691 [==============================] - 0s 57us/step - loss: 0.4663 - acc: 0.7699 - mean_squared_error: 0.1527 - val_loss: 0.5941 - val_acc: 0.7273 - val_mean_squared_error: 0.2009\n",
            "Epoch 195/200\n",
            "691/691 [==============================] - 0s 55us/step - loss: 0.4657 - acc: 0.7757 - mean_squared_error: 0.1525 - val_loss: 0.6091 - val_acc: 0.6883 - val_mean_squared_error: 0.2086\n",
            "Epoch 196/200\n",
            "691/691 [==============================] - 0s 55us/step - loss: 0.4630 - acc: 0.7742 - mean_squared_error: 0.1508 - val_loss: 0.5879 - val_acc: 0.7273 - val_mean_squared_error: 0.1986\n",
            "Epoch 197/200\n",
            "691/691 [==============================] - 0s 65us/step - loss: 0.4634 - acc: 0.7757 - mean_squared_error: 0.1515 - val_loss: 0.5914 - val_acc: 0.6883 - val_mean_squared_error: 0.2003\n",
            "Epoch 198/200\n",
            "691/691 [==============================] - 0s 51us/step - loss: 0.4605 - acc: 0.7699 - mean_squared_error: 0.1499 - val_loss: 0.6001 - val_acc: 0.6883 - val_mean_squared_error: 0.2038\n",
            "Epoch 199/200\n",
            "691/691 [==============================] - 0s 59us/step - loss: 0.4617 - acc: 0.7815 - mean_squared_error: 0.1504 - val_loss: 0.5955 - val_acc: 0.6883 - val_mean_squared_error: 0.2023\n",
            "Epoch 200/200\n",
            "691/691 [==============================] - 0s 51us/step - loss: 0.4593 - acc: 0.7670 - mean_squared_error: 0.1498 - val_loss: 0.6106 - val_acc: 0.7143 - val_mean_squared_error: 0.2089\n"
          ],
          "name": "stdout"
        }
      ]
    },
    {
      "cell_type": "code",
      "metadata": {
        "id": "jmSAzJGHuEF3",
        "colab_type": "code",
        "outputId": "bf5f7795-8737-4924-9eaa-a53533ec8bd9",
        "colab": {
          "base_uri": "https://localhost:8080/",
          "height": 1000
        }
      },
      "source": [
        "history.history['acc']\n"
      ],
      "execution_count": 0,
      "outputs": [
        {
          "output_type": "execute_result",
          "data": {
            "text/plain": [
              "[0.34298118720351356,\n",
              " 0.34442836477511524,\n",
              " 0.5788712016752936,\n",
              " 0.6425470330263184,\n",
              " 0.6512301010436846,\n",
              " 0.6454413892046242,\n",
              " 0.6454413886008146,\n",
              " 0.649782923817117,\n",
              " 0.6497829236446,\n",
              " 0.6512301012162016,\n",
              " 0.651230100612392,\n",
              " 0.6584659920932587,\n",
              " 0.6642547026384411,\n",
              " 0.6628075246355468,\n",
              " 0.6888567301540403,\n",
              " 0.6917510857285363,\n",
              " 0.6874095511160435,\n",
              " 0.6960926196940901,\n",
              " 0.6859623732856662,\n",
              " 0.690303907725642,\n",
              " 0.6888567292914549,\n",
              " 0.6859623737169589,\n",
              " 0.6888567286876452,\n",
              " 0.6874095518923703,\n",
              " 0.6888567296796183,\n",
              " 0.6787264826673847,\n",
              " 0.6859623732856662,\n",
              " 0.6917510861598289,\n",
              " 0.6888567289464208,\n",
              " 0.6917510851247266,\n",
              " 0.6888567297227476,\n",
              " 0.6931982631276209,\n",
              " 0.6917510846934339,\n",
              " 0.697539797136304,\n",
              " 0.694645441734325,\n",
              " 0.7018813317056675,\n",
              " 0.7264833577980009,\n",
              " 0.7163531117777403,\n",
              " 0.7250361797951065,\n",
              " 0.7192474679560461,\n",
              " 0.7221418237893178,\n",
              " 0.7235890017490828,\n",
              " 0.7206946451826137,\n",
              " 0.7293777142350822,\n",
              " 0.7293777142350822,\n",
              " 0.7235890017922121,\n",
              " 0.7279305347657928,\n",
              " 0.7337192467773702,\n",
              " 0.7337192467773702,\n",
              " 0.7337192472086629,\n",
              " 0.7308248922379765,\n",
              " 0.7308248912028742,\n",
              " 0.7351664262466596,\n",
              " 0.7337192476399556,\n",
              " 0.7395079599965672,\n",
              " 0.736613604249554,\n",
              " 0.7380607810448289,\n",
              " 0.738060781217346,\n",
              " 0.7264833571941911,\n",
              " 0.740955138258237,\n",
              " 0.7395079593927574,\n",
              " 0.7279305356283782,\n",
              " 0.7409551378269444,\n",
              " 0.7293777142350822,\n",
              " 0.740955136791842,\n",
              " 0.742402315053512,\n",
              " 0.7424023162611314,\n",
              " 0.7351664262466596,\n",
              " 0.7438494932289234,\n",
              " 0.7496382062756032,\n",
              " 0.7322720692057686,\n",
              " 0.7496382061030862,\n",
              " 0.7380607818211556,\n",
              " 0.7481910276688991,\n",
              " 0.7380607810448289,\n",
              " 0.7409551372231347,\n",
              " 0.7525325616775822,\n",
              " 0.735166425815367,\n",
              " 0.7424023157867095,\n",
              " 0.7452966712318178,\n",
              " 0.7496382058443105,\n",
              " 0.7481910282727088,\n",
              " 0.743849493660216,\n",
              " 0.7467438496660047,\n",
              " 0.740955136791842,\n",
              " 0.7452966720081445,\n",
              " 0.7452966718356274,\n",
              " 0.7467438492347122,\n",
              " 0.7612156301262409,\n",
              " 0.7322720692057686,\n",
              " 0.7539797392491839,\n",
              " 0.7409551376544273,\n",
              " 0.7452966718356274,\n",
              " 0.755426917855888,\n",
              " 0.7424023152260291,\n",
              " 0.7424023156573217,\n",
              " 0.7539797396804765,\n",
              " 0.7452966720081445,\n",
              " 0.7467438498385218,\n",
              " 0.7452966722669201,\n",
              " 0.7525325610737724,\n",
              " 0.7510853832433951,\n",
              " 0.7452966716631104,\n",
              " 0.7481910268063138,\n",
              " 0.7467438498385218,\n",
              " 0.743849493660216,\n",
              " 0.7539797401117692,\n",
              " 0.746743849062195,\n",
              " 0.7525325616775822,\n",
              " 0.7525325614188066,\n",
              " 0.7525325622813919,\n",
              " 0.7424023152260291,\n",
              " 0.7568740958587823,\n",
              " 0.7612156296949483,\n",
              " 0.7452966722669201,\n",
              " 0.7481910268063138,\n",
              " 0.7597684522958636,\n",
              " 0.7554269182871806,\n",
              " 0.7510853830708781,\n",
              " 0.75687409482368,\n",
              " 0.7525325612462895,\n",
              " 0.7452966718356274,\n",
              " 0.7496382048092082,\n",
              " 0.76266280726655,\n",
              " 0.7539797390766668,\n",
              " 0.7510853832433951,\n",
              " 0.7525325618500992,\n",
              " 0.7510853836746878,\n",
              " 0.7612156290911386,\n",
              " 0.7568740958587823,\n",
              " 0.7496382052405008,\n",
              " 0.761215630298758,\n",
              " 0.7583212738616767,\n",
              " 0.759768451864571,\n",
              " 0.7554269172520782,\n",
              " 0.7583212735166426,\n",
              " 0.7525325612462895,\n",
              " 0.758321273430384,\n",
              " 0.7510853832433951,\n",
              " 0.7583212728265744,\n",
              " 0.7583212736891596,\n",
              " 0.761215630298758,\n",
              " 0.7554269172520782,\n",
              " 0.7539797401117692,\n",
              " 0.7496382052405008,\n",
              " 0.761215630298758,\n",
              " 0.7641099852694444,\n",
              " 0.7583212732578669,\n",
              " 0.7568740952549726,\n",
              " 0.7583212738616767,\n",
              " 0.7597684522958636,\n",
              " 0.7626628076978427,\n",
              " 0.7655571643074411,\n",
              " 0.759768451692054,\n",
              " 0.7597684521233466,\n",
              " 0.7626628078703598,\n",
              " 0.767004341102716,\n",
              " 0.7612156292636557,\n",
              " 0.7684515188468348,\n",
              " 0.7510853838472049,\n",
              " 0.7568740956862653,\n",
              " 0.7583212736891596,\n",
              " 0.7626628078703598,\n",
              " 0.7684515192781275,\n",
              " 0.7727930543219129,\n",
              " 0.765557164134924,\n",
              " 0.7684515198819372,\n",
              " 0.7583212736891596,\n",
              " 0.7641099848381517,\n",
              " 0.7670043408439404,\n",
              " 0.7670043412752331,\n",
              " 0.7655571643074411,\n",
              " 0.7698986971085048,\n",
              " 0.7698986977123145,\n",
              " 0.7698986983161241,\n",
              " 0.7698986977123145,\n",
              " 0.765557164134924,\n",
              " 0.7698986972810218,\n",
              " 0.7612156301262409,\n",
              " 0.755426917855888,\n",
              " 0.7742402318935145,\n",
              " 0.7756874088613066,\n",
              " 0.7713458754564332,\n",
              " 0.76266280726655,\n",
              " 0.7785817651258709,\n",
              " 0.778581765298388,\n",
              " 0.7626628083016523,\n",
              " 0.7641099850969273,\n",
              " 0.7727930537181031,\n",
              " 0.7597684508294686,\n",
              " 0.7800289437325749,\n",
              " 0.7597684512607613,\n",
              " 0.7800289437325749,\n",
              " 0.7698986972810218,\n",
              " 0.7756874097238918,\n",
              " 0.7742402323248072,\n",
              " 0.7756874092925993,\n",
              " 0.7698986977123145,\n",
              " 0.7814761219079863,\n",
              " 0.7670043421378184]"
            ]
          },
          "metadata": {
            "tags": []
          },
          "execution_count": 293
        }
      ]
    },
    {
      "cell_type": "markdown",
      "metadata": {
        "id": "IskzfsEUJW8K",
        "colab_type": "text"
      },
      "source": [
        "# Nouvelle section"
      ]
    },
    {
      "cell_type": "code",
      "metadata": {
        "id": "9GX310yztOcu",
        "colab_type": "code",
        "outputId": "77574520-e4fe-4229-af11-0d38ad155aad",
        "colab": {
          "base_uri": "https://localhost:8080/",
          "height": 51
        }
      },
      "source": [
        "loss,accuracy, mse = model.evaluate(var_x, var_y)\n",
        "loss,accuracy, mse"
      ],
      "execution_count": 0,
      "outputs": [
        {
          "output_type": "stream",
          "text": [
            "768/768 [==============================] - 0s 34us/step\n"
          ],
          "name": "stdout"
        },
        {
          "output_type": "execute_result",
          "data": {
            "text/plain": [
              "(0.4693072810769081, 0.7734375, 0.15340032428503036)"
            ]
          },
          "metadata": {
            "tags": []
          },
          "execution_count": 305
        }
      ]
    },
    {
      "cell_type": "markdown",
      "metadata": {
        "id": "WRULfq71_P8Z",
        "colab_type": "text"
      },
      "source": [
        "FIT: Returns\n",
        "\n",
        "A History object. Its History.history attribute is a record of training loss values and metrics values at successive epochs, as well as validation loss values and validation metrics values (if applicable)."
      ]
    },
    {
      "cell_type": "code",
      "metadata": {
        "id": "U8VjX8J35djI",
        "colab_type": "code",
        "colab": {}
      },
      "source": [
        "#loss,accuracy = model.evaluate(var_x, var_y)"
      ],
      "execution_count": 0,
      "outputs": []
    },
    {
      "cell_type": "code",
      "metadata": {
        "id": "u2QxRCaM514a",
        "colab_type": "code",
        "colab": {}
      },
      "source": [
        "#loss,accuracy "
      ],
      "execution_count": 0,
      "outputs": []
    },
    {
      "cell_type": "code",
      "metadata": {
        "id": "lFKRAVsr-z0L",
        "colab_type": "code",
        "colab": {}
      },
      "source": [
        "# https://keras.io/models/sequential/"
      ],
      "execution_count": 0,
      "outputs": []
    },
    {
      "cell_type": "code",
      "metadata": {
        "id": "PeRLrZutCtM9",
        "colab_type": "code",
        "outputId": "c3700a8d-b76d-4bab-9bc2-d408425a7c73",
        "colab": {
          "base_uri": "https://localhost:8080/",
          "height": 34
        }
      },
      "source": [
        "\n",
        "import json\n",
        "\n",
        "with open(\"model.json\", \"w\") as json_file:\n",
        "    json_file.write(json_model)\n",
        "'''\n",
        "# serialize weights to HDF5\n",
        "model.save_weights(\"model.h5\")\n",
        "print(\"Saved model to disk\")\n",
        "'''\n",
        "\n"
      ],
      "execution_count": 0,
      "outputs": [
        {
          "output_type": "execute_result",
          "data": {
            "text/plain": [
              "'\\n# serialize weights to HDF5\\nmodel.save_weights(\"model.h5\")\\nprint(\"Saved model to disk\")\\n'"
            ]
          },
          "metadata": {
            "tags": []
          },
          "execution_count": 312
        }
      ]
    },
    {
      "cell_type": "code",
      "metadata": {
        "id": "ALC4DZAvBoR0",
        "colab_type": "code",
        "colab": {}
      },
      "source": [
        "import seaborn as sns\n",
        "import matplotlib.pyplot as plt\n",
        "\n",
        "# Affichage de lévolution de la perte\n",
        "#d1 = sns.lineplot(list(range(len(history.history['loss']))), history.history['loss'])\n",
        "#d2 = sns.lineplot(list(range(len(history.history['acc']))), history.history['acc'])\n",
        "\n",
        "\n"
      ],
      "execution_count": 0,
      "outputs": []
    },
    {
      "cell_type": "code",
      "metadata": {
        "id": "7vvr6Bcu_022",
        "colab_type": "code",
        "outputId": "18a5bd9a-a973-4263-eaa7-a0ab68d17671",
        "colab": {
          "base_uri": "https://localhost:8080/",
          "height": 338
        }
      },
      "source": [
        "fig, (ax1,ax2) = plt.subplots(1,2,figsize=(10,5), sharex = True)\n",
        "ax1.plot = plt.plot(list(range(len(history.history['loss']))), history.history['loss'])\n",
        "ax2.plot = plt.plot(list(range(len(history.history['acc']))), history.history['acc'])\n",
        "ax1.set(xlabel='Epochs', ylabel='loss')\n",
        "ax2.set(xlabel='Epochs', ylabel='Accuracy')\n",
        "plt.show()"
      ],
      "execution_count": 0,
      "outputs": [
        {
          "output_type": "display_data",
          "data": {
            "image/png": "[encoded data removed]",
            "text/plain": [
              "<Figure size 720x360 with 2 Axes>"
            ]
          },
          "metadata": {
            "tags": []
          }
        }
      ]
    },
    {
      "cell_type": "code",
      "metadata": {
        "id": "4Ts69oiUFxip",
        "colab_type": "code",
        "outputId": "b68799d4-53ec-4b39-9fb6-781526b6e3fd",
        "colab": {
          "base_uri": "https://localhost:8080/",
          "height": 544
        }
      },
      "source": [
        "plt.plot(list(range(len(history.history['loss']))), history.history['loss'])\n",
        "plt.ylabel('epochs')\n",
        "plt.xlabel('loss')\n",
        "plt.show()\n",
        "plt.plot(list(range(len(history.history['acc']))), history.history['acc'])\n",
        "plt.ylabel('epochs')\n",
        "plt.xlabel('Accuracy')\n",
        "plt.show()\n"
      ],
      "execution_count": 0,
      "outputs": [
        {
          "output_type": "display_data",
          "data": {
            "image/png": "[encoded data removed]",
            "text/plain": [
              "<Figure size 432x288 with 1 Axes>"
            ]
          },
          "metadata": {
            "tags": []
          }
        },
        {
          "output_type": "display_data",
          "data": {
            "image/png": "[encoded data removed]",
            "text/plain": [
              "<Figure size 432x288 with 1 Axes>"
            ]
          },
          "metadata": {
            "tags": []
          }
        }
      ]
    },
    {
      "cell_type": "code",
      "metadata": {
        "id": "GjIcGjhy_Xjc",
        "colab_type": "code",
        "colab": {}
      },
      "source": [
        ""
      ],
      "execution_count": 0,
      "outputs": []
    }
  ]
}